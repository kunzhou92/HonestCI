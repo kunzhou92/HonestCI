{
 "cells": [
  {
   "cell_type": "code",
   "execution_count": 1,
   "metadata": {
    "collapsed": true
   },
   "outputs": [],
   "source": [
    "library(plyr)\n",
    "library(ggplot2)\n",
    "load('summary2.Rdata')"
   ]
  },
  {
   "cell_type": "code",
   "execution_count": 2,
   "metadata": {
    "collapsed": true
   },
   "outputs": [],
   "source": [
    "theme_settings = theme_bw() + \n",
    "  theme(panel.grid = element_blank(), \n",
    "        text=element_text(size=15), \n",
    "        plot.title = element_text(hjust = 0.5),\n",
    "        legend.background=element_blank(),\n",
    "        legend.key=element_blank(), \n",
    "        legend.key.height=unit(1, 'cm'),\n",
    "        strip.background = element_blank(),\n",
    "        legend.position = 'bottom')"
   ]
  },
  {
   "cell_type": "code",
   "execution_count": 3,
   "metadata": {
    "collapsed": true
   },
   "outputs": [],
   "source": [
    "adaptive = ddply(summary_adaptive_single, .(b, s, lam1Type, method, design), summarise, \n",
    "              r = mean(r), coverage = mean(coverage))\n",
    "oracle = ddply(summary_oracle_single_version2, .(b, s, lam1Type, method, design), summarise, \n",
    "              r = mean(r), coverage = mean(coverage))\n",
    "Stein_vol = ddply(summary_volume_stein_single, .(b, s, lam1Type, method, design), summarise, \n",
    "                         r = mean(exp(logVol / 100)), coverage = mean(coverage))\n",
    "Stein_radius = ddply(summary_radius_stein_single, .(b, s, lam1Type, method, design), summarise, \n",
    "                            r = mean(exp(logVol / 100)), coverage = mean(coverage))\n",
    "Lasso_vol = ddply(summary_volume_lasso_single, .(b, s, lam1Type, method, design), summarise, \n",
    "              r = mean(exp(logVol / 100)), coverage = mean(coverage))\n",
    "Lasso_radius = ddply(summary_radius_lasso_single, .(b, s, lam1Type, method, design), summarise, \n",
    "              r = mean(exp(logVol / 100)), coverage = mean(coverage))\n",
    "\n",
    "dataset1 = rbind(adaptive, oracle, Stein_vol, Lasso_vol)\n",
    "dataset1$method[dataset1$method == 'twoStepSteinVolume'] = 'two-step stein'\n",
    "dataset1$method = factor(dataset1$method, levels = c('adaptive', 'oracle', 'two-step stein', 'two-step lasso'))\n",
    "dataset1$design = factor(dataset1$design, levels = c('toeplitz','exp. decay', 'equal cor.'))\n",
    "dataset1$lam1Type = factor(dataset1$lam1Type, levels = c('val', 'cv', '1se'))\n"
   ]
  },
  {
   "cell_type": "code",
   "execution_count": null,
   "metadata": {
    "collapsed": true
   },
   "outputs": [],
   "source": []
  }
 ],
 "metadata": {
  "kernelspec": {
   "display_name": "R",
   "language": "R",
   "name": "ir"
  },
  "language_info": {
   "codemirror_mode": "r",
   "file_extension": ".r",
   "mimetype": "text/x-r-source",
   "name": "R",
   "pygments_lexer": "r",
   "version": "3.3.2"
  }
 },
 "nbformat": 4,
 "nbformat_minor": 2
}
