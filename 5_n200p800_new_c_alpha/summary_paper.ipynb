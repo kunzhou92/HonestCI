{
 "cells": [
  {
   "cell_type": "code",
   "execution_count": 1,
   "metadata": {},
   "outputs": [],
   "source": [
    "library(plyr)\n",
    "library(ggplot2)\n",
    "load('summary2.Rdata')"
   ]
  },
  {
   "cell_type": "code",
   "execution_count": 2,
   "metadata": {
    "collapsed": true
   },
   "outputs": [],
   "source": [
    "theme_settings = theme_bw() + \n",
    "  theme(panel.grid = element_blank(), \n",
    "        text=element_text(size=15), \n",
    "        plot.title = element_text(hjust = 0.5),\n",
    "        legend.background=element_blank(),\n",
    "        legend.key=element_blank(), \n",
    "        legend.key.height=unit(1, 'cm'),\n",
    "        strip.background = element_blank(),\n",
    "        legend.position = 'bottom')"
   ]
  },
  {
   "cell_type": "code",
   "execution_count": 3,
   "metadata": {
    "collapsed": true
   },
   "outputs": [],
   "source": [
    "N = 200\n",
    "baseline = sqrt(qchisq(p = 0.95, df = N) / N)"
   ]
  },
  {
   "cell_type": "code",
   "execution_count": 11,
   "metadata": {},
   "outputs": [
    {
     "data": {
      "text/html": [
       "<table>\n",
       "<caption>A data.frame: 30 × 8</caption>\n",
       "<thead>\n",
       "\t<tr><th></th><th scope=col>b</th><th scope=col>s</th><th scope=col>lam1Type</th><th scope=col>method</th><th scope=col>design</th><th scope=col>r</th><th scope=col>coverage</th><th scope=col>c</th></tr>\n",
       "\t<tr><th></th><th scope=col>&lt;dbl&gt;</th><th scope=col>&lt;dbl&gt;</th><th scope=col>&lt;chr&gt;</th><th scope=col>&lt;chr&gt;</th><th scope=col>&lt;chr&gt;</th><th scope=col>&lt;dbl&gt;</th><th scope=col>&lt;dbl&gt;</th><th scope=col>&lt;chr&gt;</th></tr>\n",
       "</thead>\n",
       "<tbody>\n",
       "\t<tr><th scope=row>10</th><td>0.1</td><td>10</td><td>1se</td><td>twoStepSteinVolume</td><td>equal cor.</td><td>0.4088634</td><td>0.99</td><td>vol</td></tr>\n",
       "\t<tr><th scope=row>13</th><td>0.1</td><td>10</td><td>cv </td><td>twoStepSteinVolume</td><td>equal cor.</td><td>0.4051893</td><td>0.98</td><td>vol</td></tr>\n",
       "\t<tr><th scope=row>16</th><td>0.1</td><td>10</td><td>val</td><td>twoStepSteinVolume</td><td>equal cor.</td><td>0.4172334</td><td>0.99</td><td>vol</td></tr>\n",
       "\t<tr><th scope=row>28</th><td>0.3</td><td>10</td><td>1se</td><td>twoStepSteinVolume</td><td>equal cor.</td><td>0.4579328</td><td>0.94</td><td>vol</td></tr>\n",
       "\t<tr><th scope=row>31</th><td>0.3</td><td>10</td><td>cv </td><td>twoStepSteinVolume</td><td>equal cor.</td><td>0.4450436</td><td>0.93</td><td>vol</td></tr>\n",
       "\t<tr><th scope=row>34</th><td>0.3</td><td>10</td><td>val</td><td>twoStepSteinVolume</td><td>equal cor.</td><td>0.4732517</td><td>0.92</td><td>vol</td></tr>\n",
       "\t<tr><th scope=row>46</th><td>0.5</td><td>10</td><td>1se</td><td>twoStepSteinVolume</td><td>equal cor.</td><td>0.5183883</td><td>0.93</td><td>vol</td></tr>\n",
       "\t<tr><th scope=row>49</th><td>0.5</td><td>10</td><td>cv </td><td>twoStepSteinVolume</td><td>equal cor.</td><td>0.4988874</td><td>0.95</td><td>vol</td></tr>\n",
       "\t<tr><th scope=row>52</th><td>0.5</td><td>10</td><td>val</td><td>twoStepSteinVolume</td><td>equal cor.</td><td>0.5336392</td><td>0.92</td><td>vol</td></tr>\n",
       "\t<tr><th scope=row>64</th><td>0.7</td><td>10</td><td>1se</td><td>twoStepSteinVolume</td><td>equal cor.</td><td>0.5421141</td><td>0.90</td><td>vol</td></tr>\n",
       "\t<tr><th scope=row>67</th><td>0.7</td><td>10</td><td>cv </td><td>twoStepSteinVolume</td><td>equal cor.</td><td>0.4964181</td><td>0.88</td><td>vol</td></tr>\n",
       "\t<tr><th scope=row>70</th><td>0.7</td><td>10</td><td>val</td><td>twoStepSteinVolume</td><td>equal cor.</td><td>0.5627309</td><td>0.90</td><td>vol</td></tr>\n",
       "\t<tr><th scope=row>82</th><td>0.9</td><td>10</td><td>1se</td><td>twoStepSteinVolume</td><td>equal cor.</td><td>0.5424507</td><td>0.91</td><td>vol</td></tr>\n",
       "\t<tr><th scope=row>85</th><td>0.9</td><td>10</td><td>cv </td><td>twoStepSteinVolume</td><td>equal cor.</td><td>0.4855309</td><td>0.94</td><td>vol</td></tr>\n",
       "\t<tr><th scope=row>88</th><td>0.9</td><td>10</td><td>val</td><td>twoStepSteinVolume</td><td>equal cor.</td><td>0.6072052</td><td>0.92</td><td>vol</td></tr>\n",
       "\t<tr><th scope=row>100</th><td>1.0</td><td>10</td><td>1se</td><td>twoStepSteinVolume</td><td>equal cor.</td><td>0.5225174</td><td>0.90</td><td>vol</td></tr>\n",
       "\t<tr><th scope=row>103</th><td>1.0</td><td>10</td><td>cv </td><td>twoStepSteinVolume</td><td>equal cor.</td><td>0.4639991</td><td>0.90</td><td>vol</td></tr>\n",
       "\t<tr><th scope=row>106</th><td>1.0</td><td>10</td><td>val</td><td>twoStepSteinVolume</td><td>equal cor.</td><td>0.6209404</td><td>0.93</td><td>vol</td></tr>\n",
       "\t<tr><th scope=row>118</th><td>2.0</td><td>10</td><td>1se</td><td>twoStepSteinVolume</td><td>equal cor.</td><td>0.4823032</td><td>0.95</td><td>vol</td></tr>\n",
       "\t<tr><th scope=row>121</th><td>2.0</td><td>10</td><td>cv </td><td>twoStepSteinVolume</td><td>equal cor.</td><td>0.4573580</td><td>0.99</td><td>vol</td></tr>\n",
       "\t<tr><th scope=row>124</th><td>2.0</td><td>10</td><td>val</td><td>twoStepSteinVolume</td><td>equal cor.</td><td>0.8238045</td><td>0.95</td><td>vol</td></tr>\n",
       "\t<tr><th scope=row>136</th><td>3.0</td><td>10</td><td>1se</td><td>twoStepSteinVolume</td><td>equal cor.</td><td>0.4676705</td><td>0.92</td><td>vol</td></tr>\n",
       "\t<tr><th scope=row>139</th><td>3.0</td><td>10</td><td>cv </td><td>twoStepSteinVolume</td><td>equal cor.</td><td>0.4598217</td><td>0.96</td><td>vol</td></tr>\n",
       "\t<tr><th scope=row>142</th><td>3.0</td><td>10</td><td>val</td><td>twoStepSteinVolume</td><td>equal cor.</td><td>0.9027135</td><td>0.97</td><td>vol</td></tr>\n",
       "\t<tr><th scope=row>154</th><td>4.0</td><td>10</td><td>1se</td><td>twoStepSteinVolume</td><td>equal cor.</td><td>0.4481780</td><td>0.95</td><td>vol</td></tr>\n",
       "\t<tr><th scope=row>157</th><td>4.0</td><td>10</td><td>cv </td><td>twoStepSteinVolume</td><td>equal cor.</td><td>0.4447448</td><td>0.97</td><td>vol</td></tr>\n",
       "\t<tr><th scope=row>160</th><td>4.0</td><td>10</td><td>val</td><td>twoStepSteinVolume</td><td>equal cor.</td><td>0.9590540</td><td>0.99</td><td>vol</td></tr>\n",
       "\t<tr><th scope=row>172</th><td>5.0</td><td>10</td><td>1se</td><td>twoStepSteinVolume</td><td>equal cor.</td><td>0.4739545</td><td>0.97</td><td>vol</td></tr>\n",
       "\t<tr><th scope=row>175</th><td>5.0</td><td>10</td><td>cv </td><td>twoStepSteinVolume</td><td>equal cor.</td><td>0.4599488</td><td>0.97</td><td>vol</td></tr>\n",
       "\t<tr><th scope=row>178</th><td>5.0</td><td>10</td><td>val</td><td>twoStepSteinVolume</td><td>equal cor.</td><td>0.9111548</td><td>0.97</td><td>vol</td></tr>\n",
       "</tbody>\n",
       "</table>\n"
      ],
      "text/latex": [
       "A data.frame: 30 × 8\n",
       "\\begin{tabular}{r|llllllll}\n",
       "  & b & s & lam1Type & method & design & r & coverage & c\\\\\n",
       "  & <dbl> & <dbl> & <chr> & <chr> & <chr> & <dbl> & <dbl> & <chr>\\\\\n",
       "\\hline\n",
       "\t10 & 0.1 & 10 & 1se & twoStepSteinVolume & equal cor. & 0.4088634 & 0.99 & vol\\\\\n",
       "\t13 & 0.1 & 10 & cv  & twoStepSteinVolume & equal cor. & 0.4051893 & 0.98 & vol\\\\\n",
       "\t16 & 0.1 & 10 & val & twoStepSteinVolume & equal cor. & 0.4172334 & 0.99 & vol\\\\\n",
       "\t28 & 0.3 & 10 & 1se & twoStepSteinVolume & equal cor. & 0.4579328 & 0.94 & vol\\\\\n",
       "\t31 & 0.3 & 10 & cv  & twoStepSteinVolume & equal cor. & 0.4450436 & 0.93 & vol\\\\\n",
       "\t34 & 0.3 & 10 & val & twoStepSteinVolume & equal cor. & 0.4732517 & 0.92 & vol\\\\\n",
       "\t46 & 0.5 & 10 & 1se & twoStepSteinVolume & equal cor. & 0.5183883 & 0.93 & vol\\\\\n",
       "\t49 & 0.5 & 10 & cv  & twoStepSteinVolume & equal cor. & 0.4988874 & 0.95 & vol\\\\\n",
       "\t52 & 0.5 & 10 & val & twoStepSteinVolume & equal cor. & 0.5336392 & 0.92 & vol\\\\\n",
       "\t64 & 0.7 & 10 & 1se & twoStepSteinVolume & equal cor. & 0.5421141 & 0.90 & vol\\\\\n",
       "\t67 & 0.7 & 10 & cv  & twoStepSteinVolume & equal cor. & 0.4964181 & 0.88 & vol\\\\\n",
       "\t70 & 0.7 & 10 & val & twoStepSteinVolume & equal cor. & 0.5627309 & 0.90 & vol\\\\\n",
       "\t82 & 0.9 & 10 & 1se & twoStepSteinVolume & equal cor. & 0.5424507 & 0.91 & vol\\\\\n",
       "\t85 & 0.9 & 10 & cv  & twoStepSteinVolume & equal cor. & 0.4855309 & 0.94 & vol\\\\\n",
       "\t88 & 0.9 & 10 & val & twoStepSteinVolume & equal cor. & 0.6072052 & 0.92 & vol\\\\\n",
       "\t100 & 1.0 & 10 & 1se & twoStepSteinVolume & equal cor. & 0.5225174 & 0.90 & vol\\\\\n",
       "\t103 & 1.0 & 10 & cv  & twoStepSteinVolume & equal cor. & 0.4639991 & 0.90 & vol\\\\\n",
       "\t106 & 1.0 & 10 & val & twoStepSteinVolume & equal cor. & 0.6209404 & 0.93 & vol\\\\\n",
       "\t118 & 2.0 & 10 & 1se & twoStepSteinVolume & equal cor. & 0.4823032 & 0.95 & vol\\\\\n",
       "\t121 & 2.0 & 10 & cv  & twoStepSteinVolume & equal cor. & 0.4573580 & 0.99 & vol\\\\\n",
       "\t124 & 2.0 & 10 & val & twoStepSteinVolume & equal cor. & 0.8238045 & 0.95 & vol\\\\\n",
       "\t136 & 3.0 & 10 & 1se & twoStepSteinVolume & equal cor. & 0.4676705 & 0.92 & vol\\\\\n",
       "\t139 & 3.0 & 10 & cv  & twoStepSteinVolume & equal cor. & 0.4598217 & 0.96 & vol\\\\\n",
       "\t142 & 3.0 & 10 & val & twoStepSteinVolume & equal cor. & 0.9027135 & 0.97 & vol\\\\\n",
       "\t154 & 4.0 & 10 & 1se & twoStepSteinVolume & equal cor. & 0.4481780 & 0.95 & vol\\\\\n",
       "\t157 & 4.0 & 10 & cv  & twoStepSteinVolume & equal cor. & 0.4447448 & 0.97 & vol\\\\\n",
       "\t160 & 4.0 & 10 & val & twoStepSteinVolume & equal cor. & 0.9590540 & 0.99 & vol\\\\\n",
       "\t172 & 5.0 & 10 & 1se & twoStepSteinVolume & equal cor. & 0.4739545 & 0.97 & vol\\\\\n",
       "\t175 & 5.0 & 10 & cv  & twoStepSteinVolume & equal cor. & 0.4599488 & 0.97 & vol\\\\\n",
       "\t178 & 5.0 & 10 & val & twoStepSteinVolume & equal cor. & 0.9111548 & 0.97 & vol\\\\\n",
       "\\end{tabular}\n"
      ],
      "text/markdown": [
       "\n",
       "A data.frame: 30 × 8\n",
       "\n",
       "| <!--/--> | b &lt;dbl&gt; | s &lt;dbl&gt; | lam1Type &lt;chr&gt; | method &lt;chr&gt; | design &lt;chr&gt; | r &lt;dbl&gt; | coverage &lt;dbl&gt; | c &lt;chr&gt; |\n",
       "|---|---|---|---|---|---|---|---|---|\n",
       "| 10 | 0.1 | 10 | 1se | twoStepSteinVolume | equal cor. | 0.4088634 | 0.99 | vol |\n",
       "| 13 | 0.1 | 10 | cv  | twoStepSteinVolume | equal cor. | 0.4051893 | 0.98 | vol |\n",
       "| 16 | 0.1 | 10 | val | twoStepSteinVolume | equal cor. | 0.4172334 | 0.99 | vol |\n",
       "| 28 | 0.3 | 10 | 1se | twoStepSteinVolume | equal cor. | 0.4579328 | 0.94 | vol |\n",
       "| 31 | 0.3 | 10 | cv  | twoStepSteinVolume | equal cor. | 0.4450436 | 0.93 | vol |\n",
       "| 34 | 0.3 | 10 | val | twoStepSteinVolume | equal cor. | 0.4732517 | 0.92 | vol |\n",
       "| 46 | 0.5 | 10 | 1se | twoStepSteinVolume | equal cor. | 0.5183883 | 0.93 | vol |\n",
       "| 49 | 0.5 | 10 | cv  | twoStepSteinVolume | equal cor. | 0.4988874 | 0.95 | vol |\n",
       "| 52 | 0.5 | 10 | val | twoStepSteinVolume | equal cor. | 0.5336392 | 0.92 | vol |\n",
       "| 64 | 0.7 | 10 | 1se | twoStepSteinVolume | equal cor. | 0.5421141 | 0.90 | vol |\n",
       "| 67 | 0.7 | 10 | cv  | twoStepSteinVolume | equal cor. | 0.4964181 | 0.88 | vol |\n",
       "| 70 | 0.7 | 10 | val | twoStepSteinVolume | equal cor. | 0.5627309 | 0.90 | vol |\n",
       "| 82 | 0.9 | 10 | 1se | twoStepSteinVolume | equal cor. | 0.5424507 | 0.91 | vol |\n",
       "| 85 | 0.9 | 10 | cv  | twoStepSteinVolume | equal cor. | 0.4855309 | 0.94 | vol |\n",
       "| 88 | 0.9 | 10 | val | twoStepSteinVolume | equal cor. | 0.6072052 | 0.92 | vol |\n",
       "| 100 | 1.0 | 10 | 1se | twoStepSteinVolume | equal cor. | 0.5225174 | 0.90 | vol |\n",
       "| 103 | 1.0 | 10 | cv  | twoStepSteinVolume | equal cor. | 0.4639991 | 0.90 | vol |\n",
       "| 106 | 1.0 | 10 | val | twoStepSteinVolume | equal cor. | 0.6209404 | 0.93 | vol |\n",
       "| 118 | 2.0 | 10 | 1se | twoStepSteinVolume | equal cor. | 0.4823032 | 0.95 | vol |\n",
       "| 121 | 2.0 | 10 | cv  | twoStepSteinVolume | equal cor. | 0.4573580 | 0.99 | vol |\n",
       "| 124 | 2.0 | 10 | val | twoStepSteinVolume | equal cor. | 0.8238045 | 0.95 | vol |\n",
       "| 136 | 3.0 | 10 | 1se | twoStepSteinVolume | equal cor. | 0.4676705 | 0.92 | vol |\n",
       "| 139 | 3.0 | 10 | cv  | twoStepSteinVolume | equal cor. | 0.4598217 | 0.96 | vol |\n",
       "| 142 | 3.0 | 10 | val | twoStepSteinVolume | equal cor. | 0.9027135 | 0.97 | vol |\n",
       "| 154 | 4.0 | 10 | 1se | twoStepSteinVolume | equal cor. | 0.4481780 | 0.95 | vol |\n",
       "| 157 | 4.0 | 10 | cv  | twoStepSteinVolume | equal cor. | 0.4447448 | 0.97 | vol |\n",
       "| 160 | 4.0 | 10 | val | twoStepSteinVolume | equal cor. | 0.9590540 | 0.99 | vol |\n",
       "| 172 | 5.0 | 10 | 1se | twoStepSteinVolume | equal cor. | 0.4739545 | 0.97 | vol |\n",
       "| 175 | 5.0 | 10 | cv  | twoStepSteinVolume | equal cor. | 0.4599488 | 0.97 | vol |\n",
       "| 178 | 5.0 | 10 | val | twoStepSteinVolume | equal cor. | 0.9111548 | 0.97 | vol |\n",
       "\n"
      ],
      "text/plain": [
       "    b   s  lam1Type method             design     r         coverage c  \n",
       "10  0.1 10 1se      twoStepSteinVolume equal cor. 0.4088634 0.99     vol\n",
       "13  0.1 10 cv       twoStepSteinVolume equal cor. 0.4051893 0.98     vol\n",
       "16  0.1 10 val      twoStepSteinVolume equal cor. 0.4172334 0.99     vol\n",
       "28  0.3 10 1se      twoStepSteinVolume equal cor. 0.4579328 0.94     vol\n",
       "31  0.3 10 cv       twoStepSteinVolume equal cor. 0.4450436 0.93     vol\n",
       "34  0.3 10 val      twoStepSteinVolume equal cor. 0.4732517 0.92     vol\n",
       "46  0.5 10 1se      twoStepSteinVolume equal cor. 0.5183883 0.93     vol\n",
       "49  0.5 10 cv       twoStepSteinVolume equal cor. 0.4988874 0.95     vol\n",
       "52  0.5 10 val      twoStepSteinVolume equal cor. 0.5336392 0.92     vol\n",
       "64  0.7 10 1se      twoStepSteinVolume equal cor. 0.5421141 0.90     vol\n",
       "67  0.7 10 cv       twoStepSteinVolume equal cor. 0.4964181 0.88     vol\n",
       "70  0.7 10 val      twoStepSteinVolume equal cor. 0.5627309 0.90     vol\n",
       "82  0.9 10 1se      twoStepSteinVolume equal cor. 0.5424507 0.91     vol\n",
       "85  0.9 10 cv       twoStepSteinVolume equal cor. 0.4855309 0.94     vol\n",
       "88  0.9 10 val      twoStepSteinVolume equal cor. 0.6072052 0.92     vol\n",
       "100 1.0 10 1se      twoStepSteinVolume equal cor. 0.5225174 0.90     vol\n",
       "103 1.0 10 cv       twoStepSteinVolume equal cor. 0.4639991 0.90     vol\n",
       "106 1.0 10 val      twoStepSteinVolume equal cor. 0.6209404 0.93     vol\n",
       "118 2.0 10 1se      twoStepSteinVolume equal cor. 0.4823032 0.95     vol\n",
       "121 2.0 10 cv       twoStepSteinVolume equal cor. 0.4573580 0.99     vol\n",
       "124 2.0 10 val      twoStepSteinVolume equal cor. 0.8238045 0.95     vol\n",
       "136 3.0 10 1se      twoStepSteinVolume equal cor. 0.4676705 0.92     vol\n",
       "139 3.0 10 cv       twoStepSteinVolume equal cor. 0.4598217 0.96     vol\n",
       "142 3.0 10 val      twoStepSteinVolume equal cor. 0.9027135 0.97     vol\n",
       "154 4.0 10 1se      twoStepSteinVolume equal cor. 0.4481780 0.95     vol\n",
       "157 4.0 10 cv       twoStepSteinVolume equal cor. 0.4447448 0.97     vol\n",
       "160 4.0 10 val      twoStepSteinVolume equal cor. 0.9590540 0.99     vol\n",
       "172 5.0 10 1se      twoStepSteinVolume equal cor. 0.4739545 0.97     vol\n",
       "175 5.0 10 cv       twoStepSteinVolume equal cor. 0.4599488 0.97     vol\n",
       "178 5.0 10 val      twoStepSteinVolume equal cor. 0.9111548 0.97     vol"
      ]
     },
     "metadata": {},
     "output_type": "display_data"
    }
   ],
   "source": [
    "Stein_vol[Stein_vol$s == 10 & Stein_vol$design == \"equal cor.\", ]"
   ]
  },
  {
   "cell_type": "code",
   "execution_count": 4,
   "metadata": {
    "collapsed": true
   },
   "outputs": [],
   "source": [
    "adaptive = ddply(summary_adaptive_single, .(b, s, lam1Type, method, design), summarise, \n",
    "              r = mean(r), coverage = mean(coverage))\n",
    "oracle = ddply(summary_oracle_single_version2, .(b, s, lam1Type, method, design), summarise, \n",
    "              r = mean(r), coverage = mean(coverage))\n",
    "Stein_vol = ddply(summary_volume_stein_single, .(b, s, lam1Type, method, design), summarise, \n",
    "                         r = mean(exp(logVol / N)), coverage = mean(coverage))\n",
    "Stein_radius = ddply(summary_radius_stein_single, .(b, s, lam1Type, method, design), summarise, \n",
    "                            r = mean(exp(logVol / N)), coverage = mean(coverage))\n",
    "Lasso_vol = ddply(summary_volume_lasso_single, .(b, s, lam1Type, method, design), summarise, \n",
    "              r = mean(exp(logVol / N)), coverage = mean(coverage))\n",
    "Lasso_radius = ddply(summary_radius_lasso_single, .(b, s, lam1Type, method, design), summarise, \n",
    "              r = mean(exp(logVol / N)), coverage = mean(coverage))\n",
    "\n",
    "dataset1 = rbind(adaptive, oracle, Stein_vol)\n",
    "dataset1$method[dataset1$method == 'twoStepSteinVolume'] = 'two-step stein'\n",
    "dataset1$method = factor(dataset1$method, levels = c('adaptive', 'oracle', 'two-step stein'))\n",
    "dataset1$design = factor(dataset1$design, levels = c('toeplitz','exp. decay', 'equal cor.'))\n",
    "dataset1$lam1Type = factor(dataset1$lam1Type, levels = c('val', 'cv', '1se'))\n",
    "\n",
    "Stein_vol['c'] = 'vol'\n",
    "Stein_radius['c'] = 'radius'\n",
    "Lasso_vol['c'] = 'vol'\n",
    "Lasso_radius['c'] = 'radius'\n",
    "dataset2 = rbind(Stein_vol, Stein_radius, Lasso_vol, Lasso_radius)\n",
    "\n",
    "dataset2$method[dataset2$method == 'twoStepSteinVolume'] = 'two-step stein (volume)'\n",
    "dataset2$method[dataset2$method == 'twoStepSteinRadius'] = 'two-step stein (diameter)'\n",
    "dataset2$method[dataset2$method == 'twoStepLassoVolume'] = 'two-step lasso (volume)'\n",
    "dataset2$method[dataset2$method == 'twoStepLassoRadius'] = 'two-step lasso (diameter)'\n",
    "dataset2$method = factor(dataset2$method, levels = c('two-step stein (volume)', 'two-step stein (diameter)', \n",
    "                                                     'two-step lasso (volume)', 'two-step lasso (diameter)'))\n",
    "dataset2$design = factor(dataset2$design, levels = c('toeplitz','exp. decay', 'equal cor.'))\n",
    "dataset2$lam1Type = factor(dataset2$lam1Type, levels = c('val', 'cv', '1se'))"
   ]
  },
  {
   "cell_type": "code",
   "execution_count": 5,
   "metadata": {
    "collapsed": true
   },
   "outputs": [],
   "source": [
    "adaptive_m = ddply(summary_adaptive_multiple, .(bs, bw, lam1Type, method, design), summarise, \n",
    "              r = mean(r), coverage = mean(coverage))\n",
    "oracle_m = ddply(summary_oracle_multiple_version2, .(bs, bw, lam1Type, method, design), summarise, \n",
    "              r = mean(r), coverage = mean(coverage))\n",
    "Stein_vol_m = ddply(summary_volume_stein_multiple, .(bs, bw, lam1Type, method, design), summarise, \n",
    "              r = mean(exp(logVol / N)), coverage = mean(coverage))\n",
    "Stein_radius_m = ddply(summary_radius_stein_multiple, .(bs, bw, lam1Type, method, design), summarise, \n",
    "              r = mean(exp(logVol / N)), coverage = mean(coverage))\n",
    "Lasso_vol_m = ddply(summary_volume_lasso_multiple, .(bs, bw, lam1Type, method, design), summarise, \n",
    "              r = mean(exp(logVol / N)), coverage = mean(coverage))\n",
    "Lasso_radius_m = ddply(summary_radius_lasso_multiple, .(bs, bw, lam1Type, method, design), summarise, \n",
    "              r = mean(exp(logVol / N)), coverage = mean(coverage))\n",
    "\n",
    "dataset3 = rbind(adaptive_m, oracle_m, Stein_vol_m)\n",
    "dataset3$method[dataset3$method == 'twoStepSteinVolume'] = 'two-step stein'\n",
    "dataset3$method = factor(dataset3$method, levels = c('adaptive', 'oracle', 'two-step stein'))\n",
    "dataset3$design = factor(dataset3$design, levels = c('toeplitz','exp. decay', 'equal cor.'))\n",
    "dataset3$lam1Type = factor(dataset3$lam1Type, levels = c('val', 'cv', '1se'))\n",
    "\n",
    "Stein_vol_m['c'] = 'vol'\n",
    "Stein_radius_m['c'] = 'radius'\n",
    "Lasso_vol_m['c'] = 'vol'\n",
    "Lasso_radius_m['c'] = 'radius'\n",
    "\n",
    "dataset4 = rbind(Stein_vol_m, Stein_radius_m, Lasso_vol_m, Lasso_radius_m)\n",
    "dataset4$method[dataset4$method == 'twoStepSteinVolume'] = 'two-step stein (volume)'\n",
    "dataset4$method[dataset4$method == 'twoStepSteinRadius'] = 'two-step stein (diameter)'\n",
    "dataset4$method[dataset4$method == 'twoStepLassoVolume'] = 'two-step lasso (volume)'\n",
    "dataset4$method[dataset4$method == 'twoStepLassoRadius'] = 'two-step lasso (diameter)'\n",
    "dataset4$method = factor(dataset4$method, levels = c('two-step stein (volume)', 'two-step stein (diameter)', \n",
    "                                                     'two-step lasso (volume)', 'two-step lasso (diameter)'))\n",
    "dataset4$design = factor(dataset4$design, levels = c('toeplitz','exp. decay', 'equal cor.'))\n",
    "dataset4$lam1Type = factor(dataset4$lam1Type, levels = c('val', 'cv', '1se'))"
   ]
  },
  {
   "cell_type": "code",
   "execution_count": 6,
   "metadata": {},
   "outputs": [
    {
     "data": {
      "image/png": "[encoded data removed]",
      "text/plain": [
       "plot without title"
      ]
     },
     "metadata": {},
     "output_type": "display_data"
    }
   ],
   "source": [
    "ggplot(data = dataset1[dataset1$s == 10, ], aes(x = b, y = r, color = method, shape = method)) + \n",
    "  geom_line(size = 0.5, alpha = 0.8) +\n",
    "  geom_point(size = 2.5, alpha = 0.8) +\n",
    "  geom_hline(yintercept = baseline, linetype = 3) +\n",
    "  scale_color_discrete(name = element_blank()) +\n",
    "  scale_shape_discrete(name = element_blank()) +\n",
    "  facet_grid(design ~ lam1Type, scales=\"free_y\") + \n",
    "  ylab('radii') + \n",
    "  theme_settings\n",
    "\n",
    "ggsave('stein_r.pdf', width = 6.67, height = 6.67, units = 'in')"
   ]
  },
  {
   "cell_type": "code",
   "execution_count": 7,
   "metadata": {},
   "outputs": [
    {
     "data": {},
     "metadata": {},
     "output_type": "display_data"
    },
    {
     "data": {
      "image/png": "[encoded data removed]",
      "text/plain": [
       "plot without title"
      ]
     },
     "metadata": {},
     "output_type": "display_data"
    }
   ],
   "source": [
    "ggplot(data = dataset1[dataset1$s == 10, ], aes(x = method, y = coverage)) + \n",
    "  geom_boxplot() + \n",
    "  xlab('') + \n",
    "  theme_settings +\n",
    "  coord_cartesian(ylim = c(0.75, 1)) +\n",
    "  facet_grid(lam1Type~.) + \n",
    "  geom_hline(yintercept = 0.95, linetype = 3)\n",
    "\n",
    "ggsave('coverage1_new.pdf', width = 6.67, height = 6.67, units = 'in')"
   ]
  },
  {
   "cell_type": "code",
   "execution_count": 8,
   "metadata": {},
   "outputs": [
    {
     "data": {},
     "metadata": {},
     "output_type": "display_data"
    },
    {
     "data": {
      "image/png": "[encoded data removed]",
      "text/plain": [
       "plot without title"
      ]
     },
     "metadata": {},
     "output_type": "display_data"
    }
   ],
   "source": [
    "bw = 0.2\n",
    "ggplot(data = dataset3[dataset3$bw == bw, ], aes(x = bs, y = r, color = method, shape = method)) + \n",
    "  geom_line(size = 0.5, alpha = 0.8) +\n",
    "  geom_point(size = 2.5, alpha = 0.8) +\n",
    "  geom_hline(yintercept = baseline, linetype = 3) +\n",
    "  scale_color_discrete(name = element_blank()) +\n",
    "  scale_shape_discrete(name = element_blank()) +\n",
    "  facet_grid(design ~ lam1Type, scales=\"free_y\") + \n",
    "  ylab(\"radii\") +\n",
    "  xlab('b') + \n",
    "  theme_settings\n",
    "\n",
    "ggsave('stein_r2.pdf', width = 6.67, height = 6.67, units = 'in')"
   ]
  },
  {
   "cell_type": "code",
   "execution_count": 9,
   "metadata": {},
   "outputs": [
    {
     "data": {},
     "metadata": {},
     "output_type": "display_data"
    },
    {
     "data": {
      "image/png": "[encoded data removed]",
      "text/plain": [
       "plot without title"
      ]
     },
     "metadata": {},
     "output_type": "display_data"
    }
   ],
   "source": [
    "ggplot(data = dataset2[dataset2$s == 10, ], aes(x = b, y = r, color = method, shape = method)) + \n",
    "  geom_line(size = 0.5, alpha = 0.8) +\n",
    "  geom_point(size = 2.5, alpha = 0.8) +\n",
    "  geom_hline(yintercept = baseline, linetype = 3) +\n",
    "  scale_color_discrete(name = element_blank(), guide = guide_legend(nrow = 2)) +\n",
    "  scale_shape_discrete(name = element_blank()) +\n",
    "  facet_grid(design ~ lam1Type, scales=\"free_y\") + \n",
    "  theme_settings +\n",
    "  ylab('radii')\n",
    "ggsave('lasso_r.pdf', width = 6.67, height = 6.67, units = 'in')"
   ]
  },
  {
   "cell_type": "code",
   "execution_count": 10,
   "metadata": {
    "collapsed": true
   },
   "outputs": [],
   "source": [
    "dataset2$method = revalue(dataset2$method, c(\"two-step stein (volume)\"=\"two-step\\nstein (volume)\", \n",
    "                                             \"two-step stein (diameter)\"=\"two-step\\nstein (diameter)\",\n",
    "                                             \"two-step lasso (volume)\"=\"two-step\\nlasso (volume)\",\n",
    "                                             \"two-step lasso (diameter)\"=\"two-step\\nlasso (diameter)\"))"
   ]
  },
  {
   "cell_type": "raw",
   "metadata": {},
   "source": [
    "ggplot(data = dataset2[dataset2$s == 10, ], aes(x = method, y = coverage)) + \n",
    "  geom_boxplot() + \n",
    "  coord_cartesian(ylim = c(0.85, 1)) +\n",
    "  xlab('') + \n",
    "  theme_settings\n",
    "ggsave('coverage2.pdf', width = 6.67, height = 2, units = 'in')"
   ]
  },
  {
   "cell_type": "raw",
   "metadata": {},
   "source": [
    "ggplot(data = dataset2[dataset2$s == 10, ], aes(x = method, y = coverage)) + \n",
    "  geom_boxplot() + \n",
    "  xlab('') + \n",
    "  theme_settings +\n",
    "  facet_grid(lam1Type~.) + \n",
    "  geom_hline(yintercept = 0.95, linetype = 3)\n",
    "ggsave('coverage2_new.pdf', width = 6.67, height = 6.67, units = 'in')"
   ]
  },
  {
   "cell_type": "raw",
   "metadata": {},
   "source": [
    "# compare oracle with two-step oracle\n",
    "temp = rbind(dataset1[dataset1$method == 'oracle',], dataset2[dataset2$method == 'two-step\\nlasso (diameter)',c('b','s','lam1Type','method','design','r','coverage')])\n",
    "ggplot(data = temp[temp$s == 10, ], aes(x = b, y = r, color = method, shape = method)) + \n",
    "  geom_line(size = 0.5, alpha = 0.8) +\n",
    "  geom_point(size = 2.5, alpha = 0.8) +\n",
    "  geom_hline(yintercept = baseline, linetype = 3) +\n",
    "  scale_color_discrete(name = element_blank()) +\n",
    "  scale_shape_discrete(name = element_blank()) +\n",
    "  facet_grid(design ~ lam1Type, scales=\"free_y\") + \n",
    "  ylab(\"radii\") +\n",
    "  xlab('b') + \n",
    "  theme_settings\n",
    "\n",
    "ggsave('oracle_twoStep_r.pdf', width = 6.67, height = 6.67, units = 'in')\n",
    "\n",
    "ggplot(data = temp[temp$s == 10, ], aes(x = method, y = coverage)) + \n",
    "  geom_boxplot() + \n",
    "  xlab('') + \n",
    "  theme_settings +\n",
    "  coord_cartesian(ylim = c(0.75, 1)) +\n",
    "  facet_grid(lam1Type~.) + \n",
    "  geom_hline(yintercept = 0.95, linetype = 3)\n",
    "\n",
    "ggsave('oracle_twoStep_coverage.pdf', width = 6.67, height = 6.67, units = 'in')\n"
   ]
  },
  {
   "cell_type": "markdown",
   "metadata": {
    "collapsed": true
   },
   "source": [
    "## the case of non sparsity"
   ]
  },
  {
   "cell_type": "code",
   "execution_count": 4,
   "metadata": {
    "collapsed": true
   },
   "outputs": [],
   "source": [
    "load('summary_non_sparse.Rdata')\n",
    "N = 200\n",
    "baseline = sqrt(qchisq(p = 0.95, df = N) / N)"
   ]
  },
  {
   "cell_type": "code",
   "execution_count": 5,
   "metadata": {
    "collapsed": true
   },
   "outputs": [],
   "source": [
    "adaptive = ddply(summary_adaptive_single[summary_adaptive_single$lam1Type == '1se',], \n",
    "                 .(b, s, lam1Type, method, design), summarise, \n",
    "                 r = mean(r), coverage = mean(coverage))\n",
    "oracle = ddply(summary_oracle_single_version2[summary_oracle_single_version2$lam1Type == '1se',], \n",
    "                                              .(b, s, lam1Type, method, design), summarise, \n",
    "                                              r = mean(r), coverage = mean(coverage))\n",
    "Stein_vol = ddply(summary_volume_stein_single, .(b, s, lam1Type, method, design), summarise, \n",
    "                         r = mean(exp(logVol / N)), coverage = mean(coverage))\n",
    "Stein_radius = ddply(summary_radius_stein_single, .(b, s, lam1Type, method, design), summarise, \n",
    "                            r = mean(exp(logVol / N)), coverage = mean(coverage))\n",
    "Lasso_vol = ddply(summary_volume_lasso_single, .(b, s, lam1Type, method, design), summarise, \n",
    "              r = mean(exp(logVol / N)), coverage = mean(coverage))\n",
    "Lasso_radius = ddply(summary_radius_lasso_single, .(b, s, lam1Type, method, design), summarise, \n",
    "              r = mean(exp(logVol / N)), coverage = mean(coverage))\n",
    "\n",
    "dataset5 = rbind(adaptive, oracle, Stein_vol)\n",
    "dataset5$method[dataset5$method == 'twoStepSteinVolume'] = 'two-step stein'\n",
    "dataset5$method = factor(dataset5$method, levels = c('adaptive', 'oracle', 'two-step stein'))\n",
    "dataset5$design = factor(dataset5$design, levels = c('toeplitz','exp. decay', 'equal cor.'))\n",
    "dataset5$lam1Type = factor(dataset5$lam1Type, levels = c('val', 'cv', '1se'))\n",
    "\n",
    "Stein_vol['c'] = 'vol'\n",
    "Stein_radius['c'] = 'radius'\n",
    "Lasso_vol['c'] = 'vol'\n",
    "Lasso_radius['c'] = 'radius'\n",
    "dataset6 = rbind(Stein_vol, Stein_radius, Lasso_vol, Lasso_radius)\n",
    "dataset6$method[dataset6$method == 'twoStepSteinVolume'] = 'two-step stein (volume)'\n",
    "dataset6$method[dataset6$method == 'twoStepSteinRadius'] = 'two-step stein (diameter)'\n",
    "dataset6$method[dataset6$method == 'twoStepLassoVolume'] = 'two-step lasso (volume)'\n",
    "dataset6$method[dataset6$method == 'twoStepLassoRadius'] = 'two-step lasso (diameter)'\n",
    "dataset6$method = factor(dataset6$method, levels = c('two-step stein (volume)', 'two-step stein (diameter)', \n",
    "                                                     'two-step lasso (volume)', 'two-step lasso (diameter)'))\n",
    "dataset6$design = factor(dataset6$design, levels = c('toeplitz','exp. decay', 'equal cor.'))\n",
    "dataset6$lam1Type = factor(dataset6$lam1Type, levels = c('val', 'cv', '1se'))"
   ]
  },
  {
   "cell_type": "code",
   "execution_count": 6,
   "metadata": {
    "collapsed": true
   },
   "outputs": [],
   "source": [
    "adaptive_m = ddply(summary_adaptive_multiple[summary_adaptive_multiple$lam1Type == '1se',]\n",
    "                   , .(bs, bw, lam1Type, method, design), summarise,\n",
    "                   r = mean(r), coverage = mean(coverage))\n",
    "oracle_m = ddply(summary_oracle_multiple_version2[summary_oracle_multiple_version2$lam1Type == '1se',], \n",
    "                 .(bs, bw, lam1Type, method, design), summarise, \n",
    "                 r = mean(r), coverage = mean(coverage))\n",
    "Stein_vol_m = ddply(summary_volume_stein_multiple, .(bs, bw, lam1Type, method, design), summarise, \n",
    "              r = mean(exp(logVol / N)), coverage = mean(coverage))\n",
    "Stein_radius_m = ddply(summary_radius_stein_multiple, .(bs, bw, lam1Type, method, design), summarise, \n",
    "              r = mean(exp(logVol / N)), coverage = mean(coverage))\n",
    "Lasso_vol_m = ddply(summary_volume_lasso_multiple, .(bs, bw, lam1Type, method, design), summarise, \n",
    "              r = mean(exp(logVol / N)), coverage = mean(coverage))\n",
    "Lasso_radius_m = ddply(summary_radius_lasso_multiple, .(bs, bw, lam1Type, method, design), summarise, \n",
    "              r = mean(exp(logVol / N)), coverage = mean(coverage))\n",
    "\n",
    "dataset7 = rbind(adaptive_m, oracle_m, Stein_vol_m)\n",
    "dataset7$method[dataset7$method == 'twoStepSteinVolume'] = 'two-step stein'\n",
    "dataset7$method = factor(dataset7$method, levels = c('adaptive', 'oracle', 'two-step stein'))\n",
    "dataset7$design = factor(dataset7$design, levels = c('toeplitz','exp. decay', 'equal cor.'))\n",
    "dataset7$lam1Type = factor(dataset7$lam1Type, levels = c('val', 'cv', '1se'))\n",
    "\n",
    "Stein_vol_m['c'] = 'vol'\n",
    "Stein_radius_m['c'] = 'radius'\n",
    "Lasso_vol_m['c'] = 'vol'\n",
    "Lasso_radius_m['c'] = 'radius'\n",
    "\n",
    "dataset8 = rbind(Stein_vol_m, Stein_radius_m, Lasso_vol_m, Lasso_radius_m)\n",
    "dataset8$method[dataset8$method == 'twoStepSteinVolume'] = 'two-step stein (volume)'\n",
    "dataset8$method[dataset8$method == 'twoStepSteinRadius'] = 'two-step stein (diameter)'\n",
    "dataset8$method[dataset8$method == 'twoStepLassoVolume'] = 'two-step lasso (volume)'\n",
    "dataset8$method[dataset8$method == 'twoStepLassoRadius'] = 'two-step lasso (diameter)'\n",
    "dataset8$method = factor(dataset8$method, levels = c('two-step stein (volume)', 'two-step stein (diameter)', \n",
    "                                                     'two-step lasso (volume)', 'two-step lasso (diameter)'))\n",
    "dataset8$design = factor(dataset8$design, levels = c('toeplitz','exp. decay', 'equal cor.'))\n",
    "dataset8$lam1Type = factor(dataset8$lam1Type, levels = c('val', 'cv', '1se'))"
   ]
  },
  {
   "cell_type": "raw",
   "metadata": {},
   "source": [
    "ggplot(data = dataset5[dataset5$s == 100, ], aes(x = b, y = r, color = method, shape = method)) + \n",
    "  geom_line(size = 0.5, alpha = 0.8) +\n",
    "  geom_point(size = 1.5, alpha = 0.8) +\n",
    "  geom_hline(yintercept = baseline, linetype = 3) +\n",
    "  scale_color_discrete(name = element_blank()) +\n",
    "  scale_shape_discrete(name = element_blank()) +\n",
    "  ylab('radii') + \n",
    "  theme_settings\n",
    "ggsave('nonsparse_scenario1_radius.pdf', width = 6.67, height = 6.67, units = 'in')"
   ]
  },
  {
   "cell_type": "raw",
   "metadata": {},
   "source": [
    "ggplot(data = dataset5[dataset5$s == 100, ], aes(x = method, y = coverage)) + \n",
    "  geom_boxplot() + \n",
    "  xlab('') + \n",
    "  theme_settings +\n",
    "  coord_cartesian(ylim = c(0.75, 1)) +\n",
    "  geom_hline(yintercept = 0.95, linetype = 3)\n",
    "ggsave('nonsparse_scenario1_coverage.pdf', width = 6.67, height = 2.3, units = 'in')"
   ]
  },
  {
   "cell_type": "raw",
   "metadata": {
    "scrolled": false
   },
   "source": [
    "bw = 0.2\n",
    "ggplot(data = dataset7[dataset7$bw == bw, ], aes(x = bs, y = r, color = method, shape = method)) + \n",
    "  geom_line(size = 0.5, alpha = 0.8) +\n",
    "  geom_point(size = 1.5, alpha = 0.8) +\n",
    "  geom_hline(yintercept = baseline, linetype = 3) +\n",
    "  scale_color_discrete(name = element_blank()) +\n",
    "  scale_shape_discrete(name = element_blank()) +\n",
    "  ylab(\"radii\") +\n",
    "  xlab('b') + \n",
    "  theme_settings\n",
    "ggsave('nonsparse_scenario2_radius.pdf', width = 6.67, height = 6.67, units = 'in')"
   ]
  },
  {
   "cell_type": "raw",
   "metadata": {},
   "source": [
    "ggplot(data = dataset7[dataset7$bw == 0.2, ], aes(x = method, y = coverage)) + \n",
    "  geom_boxplot() + \n",
    "  xlab('') + \n",
    "  theme_settings +\n",
    "  geom_hline(yintercept = 0.95, linetype = 3)\n",
    "ggsave('nonsparse_scenario2_coverage.pdf', width = 6.67, height = 2.3, units = 'in')\n",
    "#coord_cartesian(ylim = c(0.75, 1)) +"
   ]
  },
  {
   "cell_type": "markdown",
   "metadata": {},
   "source": [
    "# process data and combine single and multiple into one"
   ]
  },
  {
   "cell_type": "code",
   "execution_count": 7,
   "metadata": {
    "collapsed": true
   },
   "outputs": [],
   "source": [
    "temp1 = dataset5[,c('b', 'method', 'r', 'coverage')]\n",
    "temp1['type'] = 'single'\n",
    "\n",
    "\n",
    "temp2 = dataset7[,c('bs', 'method', 'r', 'coverage')]\n",
    "colnames(temp2) = c('b', 'method', 'r', 'coverage')\n",
    "temp2['type'] = 'double'\n",
    "\n",
    "temp = rbind(temp1, temp2)\n",
    "temp$type = factor(temp$type)"
   ]
  },
  {
   "cell_type": "code",
   "execution_count": 8,
   "metadata": {
    "collapsed": true
   },
   "outputs": [],
   "source": [
    "theme2 = theme_bw() + \n",
    "  theme(panel.grid = element_blank(), \n",
    "        text=element_text(size=14), \n",
    "        plot.title = element_text(hjust = 0.5),\n",
    "        legend.background=element_blank(),\n",
    "        legend.key=element_blank(), \n",
    "        legend.key.height=unit(1, 'cm'),\n",
    "        strip.background = element_blank(),\n",
    "        legend.position = 'bottom',\n",
    "        strip.placement = \"outside\")"
   ]
  },
  {
   "cell_type": "code",
   "execution_count": 9,
   "metadata": {
    "collapsed": true,
    "scrolled": false
   },
   "outputs": [],
   "source": [
    "levels(temp$type) = c('(a) First way to generate coefficients', '(b) Second way to generate coefficients')\n",
    "fig_r = ggplot(data = temp, aes(x = b, y = r, color = method, shape = method)) + \n",
    "  geom_line(size = 0.5, alpha = 0.8) +\n",
    "  geom_point(size = 2.5, alpha = 0.8) +\n",
    "  geom_hline(yintercept = baseline, linetype = 3) +\n",
    "  scale_color_discrete(name = element_blank()) +\n",
    "  scale_shape_discrete(name = element_blank()) +\n",
    "  facet_wrap(. ~ type, scales=\"free_y\") +\n",
    "  ylab(\"radii\") +\n",
    "  xlab('b') + \n",
    "  theme2"
   ]
  },
  {
   "cell_type": "code",
   "execution_count": 10,
   "metadata": {
    "collapsed": true
   },
   "outputs": [],
   "source": [
    "levels(temp$type) = c('(c) First way to generate coefficients', '(d) Second way to generate coefficients')\n",
    "fig_cov = ggplot(data = temp, aes(x = method, y = coverage)) + \n",
    "  geom_boxplot() + \n",
    "  xlab('') + \n",
    "  geom_hline(yintercept = 0.95, linetype = 3) +\n",
    "  facet_wrap(. ~ type, scales=\"free_y\", nrow=1) +\n",
    "  coord_cartesian(ylim = c(0.75, 1)) +\n",
    "  theme2"
   ]
  },
  {
   "cell_type": "code",
   "execution_count": 11,
   "metadata": {},
   "outputs": [
    {
     "data": {
      "image/png": "[encoded data removed]",
      "text/plain": [
       "plot without title"
      ]
     },
     "metadata": {},
     "output_type": "display_data"
    }
   ],
   "source": [
    "library(gridBase)\n",
    "library(gridExtra)\n",
    "fig_final = grid.arrange(fig_r, fig_cov, nrow = 2, heights = c(5, 4))\n",
    "ggsave('dense.pdf', fig_final, width = 6.67, height = 7.2, units = 'in')"
   ]
  },
  {
   "cell_type": "code",
   "execution_count": null,
   "metadata": {
    "collapsed": true
   },
   "outputs": [],
   "source": []
  },
  {
   "cell_type": "code",
   "execution_count": 20,
   "metadata": {
    "collapsed": true
   },
   "outputs": [],
   "source": [
    "temp = ddply(summary_volume_stein_multiple, .(bs, bw, lam1Type, method, design), summarise, \n",
    "              r = mean(exp(logVol / N)), coverage = mean(coverage), k = mean(k))"
   ]
  },
  {
   "cell_type": "code",
   "execution_count": null,
   "metadata": {
    "collapsed": true
   },
   "outputs": [],
   "source": []
  },
  {
   "cell_type": "code",
   "execution_count": 21,
   "metadata": {},
   "outputs": [
    {
     "data": {},
     "metadata": {},
     "output_type": "display_data"
    },
    {
     "data": {
      "image/png": "[encoded data removed]",
      "text/plain": [
       "plot without title"
      ]
     },
     "metadata": {},
     "output_type": "display_data"
    }
   ],
   "source": [
    "ggplot(data = summary_volume_stein_single[summary_volume_stein_single$s == 100,]) + \n",
    "geom_boxplot(aes(x = factor(b), y = k)) +\n",
    "xlab('b') + ylab(expression('k := rank(' * 'X'[A] * ')')) +\n",
    "theme_settings +\n",
    "ggsave('k_b.pdf', width = 6.67, height = 2.3, units = 'in')"
   ]
  },
  {
   "cell_type": "code",
   "execution_count": 22,
   "metadata": {
    "scrolled": false
   },
   "outputs": [
    {
     "data": {},
     "metadata": {},
     "output_type": "display_data"
    },
    {
     "data": {
      "image/png": "[encoded data removed]",
      "text/plain": [
       "plot without title"
      ]
     },
     "metadata": {},
     "output_type": "display_data"
    }
   ],
   "source": [
    "ggplot(data = summary_volume_stein_multiple[summary_volume_stein_multiple$bw == 0.2,]) + \n",
    "geom_boxplot(aes(x = factor(bs), y = k))\n"
   ]
  },
  {
   "cell_type": "code",
   "execution_count": 23,
   "metadata": {
    "scrolled": true
   },
   "outputs": [
    {
     "data": {
      "text/html": [
       "<table>\n",
       "<thead><tr><th scope=col>b</th><th scope=col>count</th></tr></thead>\n",
       "<tbody>\n",
       "\t<tr><td>0.1</td><td>10 </td></tr>\n",
       "\t<tr><td>0.3</td><td> 9 </td></tr>\n",
       "\t<tr><td>0.5</td><td> 4 </td></tr>\n",
       "\t<tr><td>0.7</td><td> 7 </td></tr>\n",
       "\t<tr><td>0.9</td><td> 3 </td></tr>\n",
       "\t<tr><td>1.0</td><td> 3 </td></tr>\n",
       "\t<tr><td>2.0</td><td> 4 </td></tr>\n",
       "\t<tr><td>3.0</td><td>11 </td></tr>\n",
       "\t<tr><td>4.0</td><td> 8 </td></tr>\n",
       "\t<tr><td>5.0</td><td>14 </td></tr>\n",
       "</tbody>\n",
       "</table>\n"
      ],
      "text/latex": [
       "\\begin{tabular}{r|ll}\n",
       " b & count\\\\\n",
       "\\hline\n",
       "\t 0.1 & 10 \\\\\n",
       "\t 0.3 &  9 \\\\\n",
       "\t 0.5 &  4 \\\\\n",
       "\t 0.7 &  7 \\\\\n",
       "\t 0.9 &  3 \\\\\n",
       "\t 1.0 &  3 \\\\\n",
       "\t 2.0 &  4 \\\\\n",
       "\t 3.0 & 11 \\\\\n",
       "\t 4.0 &  8 \\\\\n",
       "\t 5.0 & 14 \\\\\n",
       "\\end{tabular}\n"
      ],
      "text/markdown": [
       "\n",
       "b | count | \n",
       "|---|---|---|---|---|---|---|---|---|---|\n",
       "| 0.1 | 10  | \n",
       "| 0.3 |  9  | \n",
       "| 0.5 |  4  | \n",
       "| 0.7 |  7  | \n",
       "| 0.9 |  3  | \n",
       "| 1.0 |  3  | \n",
       "| 2.0 |  4  | \n",
       "| 3.0 | 11  | \n",
       "| 4.0 |  8  | \n",
       "| 5.0 | 14  | \n",
       "\n",
       "\n"
      ],
      "text/plain": [
       "   b   count\n",
       "1  0.1 10   \n",
       "2  0.3  9   \n",
       "3  0.5  4   \n",
       "4  0.7  7   \n",
       "5  0.9  3   \n",
       "6  1.0  3   \n",
       "7  2.0  4   \n",
       "8  3.0 11   \n",
       "9  4.0  8   \n",
       "10 5.0 14   "
      ]
     },
     "metadata": {},
     "output_type": "display_data"
    }
   ],
   "source": [
    "ddply(summary_volume_stein_single, .(b), summarise, count = sum(coverage == F))\n"
   ]
  },
  {
   "cell_type": "code",
   "execution_count": null,
   "metadata": {
    "collapsed": true
   },
   "outputs": [],
   "source": []
  }
 ],
 "metadata": {
  "kernelspec": {
   "display_name": "R",
   "language": "R",
   "name": "ir"
  },
  "language_info": {
   "codemirror_mode": "r",
   "file_extension": ".r",
   "mimetype": "text/x-r-source",
   "name": "R",
   "pygments_lexer": "r",
   "version": "3.6.2"
  }
 },
 "nbformat": 4,
 "nbformat_minor": 2
}
