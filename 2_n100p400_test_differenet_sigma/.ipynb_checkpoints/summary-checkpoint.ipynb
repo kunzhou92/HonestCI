{
 "cells": [
  {
   "cell_type": "markdown",
   "metadata": {},
   "source": [
    "The dimension of $X_1$ and $X_2$ is $100\\times400$. $\\sigma = 0.5$"
   ]
  },
  {
   "cell_type": "code",
   "execution_count": 1,
   "metadata": {
    "collapsed": true
   },
   "outputs": [],
   "source": [
    "library(plyr)\n",
    "library(ggplot2)"
   ]
  },
  {
   "cell_type": "code",
   "execution_count": 4,
   "metadata": {
    "collapsed": true
   },
   "outputs": [],
   "source": [
    "load('summary_sigma_0.5.Rdata')\n",
    "Stein_vol = ddply(summary_volume_stein_single, .(b, s, lam1Type, method, design), summarise, \n",
    "              r = mean(exp(logVol / 100)), coverage = mean(coverage))\n",
    "Stein_radius = ddply(summary_radius_stein_single, .(b, s, lam1Type, method, design), summarise, \n",
    "              r = mean(exp(logVol / 100)), coverage = mean(coverage))\n",
    "Lasso_vol = ddply(summary_volume_lasso_single, .(b, s, lam1Type, method, design), summarise, \n",
    "              r = mean(exp(logVol / 100)), coverage = mean(coverage))\n",
    "Lasso_radius = ddply(summary_radius_lasso_single, .(b, s, lam1Type, method, design), summarise, \n",
    "              r = mean(exp(logVol / 100)), coverage = mean(coverage))\n",
    "\n",
    "theme_settings = theme_bw() + \n",
    "  theme(panel.grid = element_blank(), \n",
    "        text=element_text(size=15), \n",
    "        plot.title = element_text(hjust = 0.5),\n",
    "        legend.background=element_blank(),\n",
    "        legend.key=element_blank(), \n",
    "        legend.key.height=unit(1, 'cm'),\n",
    "        strip.background = element_blank(),\n",
    "        legend.position = 'top')\n",
    "dataset1 = rbind(Stein_vol)\n",
    "dataset1['sigma'] = 0.5\n",
    "Stein_vol['c'] = 'vol'\n",
    "Stein_radius['c'] = 'radius'\n",
    "Lasso_vol['c'] = 'vol'\n",
    "Lasso_radius['c'] = 'radius'\n",
    "dataset2 = rbind(Stein_vol, Stein_radius, Lasso_vol, Lasso_radius)\n",
    "dataset2['sigma'] = 0.5"
   ]
  },
  {
   "cell_type": "code",
   "execution_count": 5,
   "metadata": {
    "collapsed": true
   },
   "outputs": [],
   "source": [
    "load('summary_sigma_1.Rdata')\n",
    "\n",
    "Stein_vol2 = ddply(summary_volume_stein_single_alpha, .(b, s, lam1Type, method, design), summarise, \n",
    "              r = mean(exp(logVol / 100)), coverage = mean(coverage))\n",
    "Stein_radius2 = ddply(summary_radius_stein_single_alpha, .(b, s, lam1Type, method, design), summarise, \n",
    "              r = mean(exp(logVol / 100)), coverage = mean(coverage))\n",
    "Lasso_vol2 = ddply(summary_volume_lasso_single, .(b, s, lam1Type, method, design), summarise, \n",
    "              r = mean(exp(logVol / 100)), coverage = mean(coverage))\n",
    "Lasso_radius2 = ddply(summary_radius_lasso_single, .(b, s, lam1Type, method, design), summarise, \n",
    "              r = mean(exp(logVol / 100)), coverage = mean(coverage))\n",
    "\n",
    "dataset3 = rbind(Stein_vol2)\n",
    "dataset3['sigma'] = 1\n",
    "dataset3 = dataset3[dataset3$design == 'toeplitz',]\n",
    "Stein_vol2['c'] = 'vol'\n",
    "Stein_radius2['c'] = 'radius'\n",
    "Lasso_vol2['c'] = 'vol'\n",
    "Lasso_radius2['c'] = 'radius'\n",
    "dataset4 = rbind(Stein_vol2, Stein_radius2, Lasso_vol2, Lasso_radius2)\n",
    "dataset4['sigma'] = 1"
   ]
  },
  {
   "cell_type": "code",
   "execution_count": 6,
   "metadata": {
    "collapsed": true
   },
   "outputs": [],
   "source": [
    "load('summary_sigma_2.Rdata')\n",
    "\n",
    "Stein_vol3 = ddply(summary_volume_stein_single, .(b, s, lam1Type, method, design), summarise, \n",
    "              r = mean(exp(logVol / 100)), coverage = mean(coverage))\n",
    "Stein_radius3 = ddply(summary_radius_stein_single, .(b, s, lam1Type, method, design), summarise, \n",
    "              r = mean(exp(logVol / 100)), coverage = mean(coverage))\n",
    "Lasso_vol3 = ddply(summary_volume_lasso_single, .(b, s, lam1Type, method, design), summarise, \n",
    "              r = mean(exp(logVol / 100)), coverage = mean(coverage))\n",
    "Lasso_radius3 = ddply(summary_radius_lasso_single, .(b, s, lam1Type, method, design), summarise, \n",
    "              r = mean(exp(logVol / 100)), coverage = mean(coverage))\n",
    "\n",
    "dataset5 = rbind(Stein_vol3)\n",
    "dataset5['sigma'] = 2\n",
    "Stein_vol3['c'] = 'vol'\n",
    "Stein_radius3['c'] = 'radius'\n",
    "Lasso_vol3['c'] = 'vol'\n",
    "Lasso_radius3['c'] = 'radius'\n",
    "dataset6 = rbind(Stein_vol3, Stein_radius3, Lasso_vol3, Lasso_radius3)\n",
    "dataset6['sigma'] = 2"
   ]
  },
  {
   "cell_type": "code",
   "execution_count": 7,
   "metadata": {
    "collapsed": true
   },
   "outputs": [],
   "source": [
    "dataset7 = rbind(dataset1, dataset3, dataset5)"
   ]
  },
  {
   "cell_type": "code",
   "execution_count": 11,
   "metadata": {},
   "outputs": [
    {
     "data": {},
     "metadata": {},
     "output_type": "display_data"
    },
    {
     "name": "stderr",
     "output_type": "stream",
     "text": [
      "Saving 6.67 x 6.67 in image\n"
     ]
    },
    {
     "data": {
      "image/png": "[encoded data removed]",
      "text/plain": [
       "plot without title"
      ]
     },
     "metadata": {},
     "output_type": "display_data"
    }
   ],
   "source": [
    "ggplot(data = dataset7[dataset7$s == 10, ], aes(x = b, y = r, color = factor(sigma), shape = factor(sigma))) + \n",
    "  geom_line(size = 0.5, alpha = 0.8) +\n",
    "  geom_point(size = 1.5, alpha = 0.8) +\n",
    "  scale_color_discrete(name = element_blank()) +\n",
    "  scale_shape_discrete(name = element_blank()) +\n",
    "  facet_grid(lam1Type~., scales=\"free_y\") + \n",
    "  ggtitle(\"s = 10\") + \n",
    "  theme_settings\n",
    "\n",
    "ggsave('different_sigma.pdf')"
   ]
  },
  {
   "cell_type": "code",
   "execution_count": 10,
   "metadata": {
    "collapsed": true
   },
   "outputs": [],
   "source": [
    "?ggsave"
   ]
  }
 ],
 "metadata": {
  "kernelspec": {
   "display_name": "R",
   "language": "R",
   "name": "ir"
  },
  "language_info": {
   "codemirror_mode": "r",
   "file_extension": ".r",
   "mimetype": "text/x-r-source",
   "name": "R",
   "pygments_lexer": "r",
   "version": "3.3.2"
  }
 },
 "nbformat": 4,
 "nbformat_minor": 2
}
