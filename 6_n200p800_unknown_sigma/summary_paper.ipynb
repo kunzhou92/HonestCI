{
 "cells": [
  {
   "cell_type": "code",
   "execution_count": 1,
   "metadata": {
    "collapsed": true
   },
   "outputs": [],
   "source": [
    "library(plyr)\n",
    "library(ggplot2)\n",
    "load('adaptive_unknown_sigma.Rdata')\n",
    "load('oracle_unknown_sigma.Rdata')\n",
    "load('unknown_sigma_fixed_A_least_square.Rdata')"
   ]
  },
  {
   "cell_type": "code",
   "execution_count": 2,
   "metadata": {
    "collapsed": true
   },
   "outputs": [],
   "source": [
    "theme_settings = theme_bw() + \n",
    "  theme(panel.grid = element_blank(), \n",
    "        text=element_text(size=15), \n",
    "        plot.title = element_text(hjust = 0.5),\n",
    "        legend.background=element_blank(),\n",
    "        legend.key=element_blank(), \n",
    "        legend.key.height=unit(1, 'cm'),\n",
    "        strip.background = element_blank(),\n",
    "        legend.position = 'bottom')"
   ]
  },
  {
   "cell_type": "code",
   "execution_count": 3,
   "metadata": {
    "collapsed": true
   },
   "outputs": [],
   "source": [
    "N = 200\n",
    "baseline = sqrt(qchisq(p = 0.95, df = N) / N)"
   ]
  },
  {
   "cell_type": "code",
   "execution_count": 4,
   "metadata": {},
   "outputs": [
    {
     "data": {
      "text/html": [
       "0.339317773788151"
      ],
      "text/latex": [
       "0.339317773788151"
      ],
      "text/markdown": [
       "0.339317773788151"
      ],
      "text/plain": [
       "[1] 0.3393178"
      ]
     },
     "metadata": {},
     "output_type": "display_data"
    }
   ],
   "source": [
    "tmp = summary_volume_stein_single[summary_volume_stein_single$coverage == F \n",
    "                            & summary_volume_stein_single$design == \"equal cor.\", ]$hsigma\n",
    "mean(0.8 <= tmp & tmp <= 1.2)"
   ]
  },
  {
   "cell_type": "code",
   "execution_count": 5,
   "metadata": {
    "collapsed": true
   },
   "outputs": [],
   "source": [
    "adaptive = ddply(summary_adaptive_single, .(b, s, lam1Type, method, design), summarise, \n",
    "              r = mean(r), coverage = mean(coverage))\n",
    "oracle = ddply(summary_oracle_single_version2, .(b, s, lam1Type, method, design), summarise, \n",
    "              r = mean(r), coverage = mean(coverage))\n",
    "Stein_vol = ddply(summary_volume_stein_single, .(b, s, lam1Type, method, design), summarise, \n",
    "                         r = mean(exp(logVol / N)), coverage = mean(coverage))\n",
    "Stein_radius = ddply(summary_radius_stein_single, .(b, s, lam1Type, method, design), summarise, \n",
    "                            r = mean(exp(logVol / N)), coverage = mean(coverage))\n",
    "Lasso_vol = ddply(summary_volume_lasso_single, .(b, s, lam1Type, method, design), summarise, \n",
    "              r = mean(exp(logVol / N)), coverage = mean(coverage))\n",
    "Lasso_radius = ddply(summary_radius_lasso_single, .(b, s, lam1Type, method, design), summarise, \n",
    "              r = mean(exp(logVol / N)), coverage = mean(coverage))\n",
    "\n",
    "dataset1 = rbind(adaptive, oracle, Stein_vol)\n",
    "dataset1$method[dataset1$method == 'twoStepSteinVolume'] = 'two-step stein'\n",
    "dataset1$method = factor(dataset1$method, levels = c('adaptive', 'oracle', 'two-step stein'))\n",
    "dataset1$design = factor(dataset1$design, levels = c('toeplitz','exp. decay', 'equal cor.'))\n",
    "dataset1$lam1Type = factor(dataset1$lam1Type, levels = c('val', 'cv', '1se'))\n",
    "\n",
    "Stein_vol['c'] = 'vol'\n",
    "Stein_radius['c'] = 'radius'\n",
    "Lasso_vol['c'] = 'vol'\n",
    "Lasso_radius['c'] = 'radius'\n",
    "dataset2 = rbind(Stein_vol, Stein_radius, Lasso_vol, Lasso_radius)\n",
    "\n",
    "dataset2$method[dataset2$method == 'twoStepSteinVolume'] = 'two-step stein (volume)'\n",
    "dataset2$method[dataset2$method == 'twoStepSteinRadius'] = 'two-step stein (diameter)'\n",
    "dataset2$method[dataset2$method == 'twoStepLassoVolume'] = 'two-step lasso (volume)'\n",
    "dataset2$method[dataset2$method == 'twoStepLassoRadius'] = 'two-step lasso (diameter)'\n",
    "dataset2$method = factor(dataset2$method, levels = c('two-step stein (volume)', 'two-step stein (diameter)', \n",
    "                                                     'two-step lasso (volume)', 'two-step lasso (diameter)'))\n",
    "dataset2$design = factor(dataset2$design, levels = c('toeplitz','exp. decay', 'equal cor.'))\n",
    "dataset2$lam1Type = factor(dataset2$lam1Type, levels = c('val', 'cv', '1se'))"
   ]
  },
  {
   "cell_type": "code",
   "execution_count": 5,
   "metadata": {},
   "outputs": [
    {
     "ename": "ERROR",
     "evalue": "Error in empty(.data): object 'summary_adaptive_multiple' not found\n",
     "output_type": "error",
     "traceback": [
      "Error in empty(.data): object 'summary_adaptive_multiple' not found\nTraceback:\n",
      "1. ddply(summary_adaptive_multiple, .(bs, bw, lam1Type, method, \n .     design), summarise, r = mean(r), coverage = mean(coverage))",
      "2. empty(.data)"
     ]
    }
   ],
   "source": [
    "adaptive_m = ddply(summary_adaptive_multiple, .(bs, bw, lam1Type, method, design), summarise, \n",
    "              r = mean(r), coverage = mean(coverage))\n",
    "oracle_m = ddply(summary_oracle_multiple_version2, .(bs, bw, lam1Type, method, design), summarise, \n",
    "              r = mean(r), coverage = mean(coverage))\n",
    "Stein_vol_m = ddply(summary_volume_stein_multiple, .(bs, bw, lam1Type, method, design), summarise, \n",
    "              r = mean(exp(logVol / N)), coverage = mean(coverage))\n",
    "Stein_radius_m = ddply(summary_radius_stein_multiple, .(bs, bw, lam1Type, method, design), summarise, \n",
    "              r = mean(exp(logVol / N)), coverage = mean(coverage))\n",
    "Lasso_vol_m = ddply(summary_volume_lasso_multiple, .(bs, bw, lam1Type, method, design), summarise, \n",
    "              r = mean(exp(logVol / N)), coverage = mean(coverage))\n",
    "Lasso_radius_m = ddply(summary_radius_lasso_multiple, .(bs, bw, lam1Type, method, design), summarise, \n",
    "              r = mean(exp(logVol / N)), coverage = mean(coverage))\n",
    "\n",
    "dataset3 = rbind(adaptive_m, oracle_m, Stein_vol_m)\n",
    "dataset3$method[dataset3$method == 'twoStepSteinVolume'] = 'two-step stein'\n",
    "dataset3$method = factor(dataset3$method, levels = c('adaptive', 'oracle', 'two-step stein'))\n",
    "dataset3$design = factor(dataset3$design, levels = c('toeplitz','exp. decay', 'equal cor.'))\n",
    "dataset3$lam1Type = factor(dataset3$lam1Type, levels = c('val', 'cv', '1se'))\n",
    "\n",
    "Stein_vol_m['c'] = 'vol'\n",
    "Stein_radius_m['c'] = 'radius'\n",
    "Lasso_vol_m['c'] = 'vol'\n",
    "Lasso_radius_m['c'] = 'radius'\n",
    "\n",
    "dataset4 = rbind(Stein_vol_m, Stein_radius_m, Lasso_vol_m, Lasso_radius_m)\n",
    "dataset4$method[dataset4$method == 'twoStepSteinVolume'] = 'two-step stein (volume)'\n",
    "dataset4$method[dataset4$method == 'twoStepSteinRadius'] = 'two-step stein (diameter)'\n",
    "dataset4$method[dataset4$method == 'twoStepLassoVolume'] = 'two-step lasso (volume)'\n",
    "dataset4$method[dataset4$method == 'twoStepLassoRadius'] = 'two-step lasso (diameter)'\n",
    "dataset4$method = factor(dataset4$method, levels = c('two-step stein (volume)', 'two-step stein (diameter)', \n",
    "                                                     'two-step lasso (volume)', 'two-step lasso (diameter)'))\n",
    "dataset4$design = factor(dataset4$design, levels = c('toeplitz','exp. decay', 'equal cor.'))\n",
    "dataset4$lam1Type = factor(dataset4$lam1Type, levels = c('val', 'cv', '1se'))"
   ]
  },
  {
   "cell_type": "code",
   "execution_count": 6,
   "metadata": {},
   "outputs": [
    {
     "data": {
      "image/png": "[encoded data removed]",
      "text/plain": [
       "plot without title"
      ]
     },
     "metadata": {
      "image/png": {
       "height": 420,
       "width": 420
      },
      "text/plain": {
       "height": 420,
       "width": 420
      }
     },
     "output_type": "display_data"
    }
   ],
   "source": [
    "ggplot(data = dataset1[dataset1$s == 10, ], aes(x = b, y = r, color = method, shape = method)) + \n",
    "  geom_line(size = 0.5, alpha = 0.8) +\n",
    "  geom_point(size = 2.5, alpha = 0.8) +\n",
    "  geom_hline(yintercept = baseline, linetype = 3) +\n",
    "  scale_color_discrete(name = element_blank()) +\n",
    "  scale_shape_discrete(name = element_blank()) +\n",
    "  facet_grid(design ~ lam1Type, scales=\"free_y\") + \n",
    "  ylab('radii') + \n",
    "  theme_settings\n",
    "\n",
    "# ggsave('r_single_A_ls.pdf', width = 6.67, height = 6.67, units = 'in')"
   ]
  },
  {
   "cell_type": "code",
   "execution_count": 9,
   "metadata": {},
   "outputs": [
    {
     "data": {
      "image/png": "[encoded data removed]",
      "text/plain": [
       "plot without title"
      ]
     },
     "metadata": {
      "image/png": {
       "height": 420,
       "width": 420
      },
      "text/plain": {
       "height": 420,
       "width": 420
      }
     },
     "output_type": "display_data"
    }
   ],
   "source": [
    "ggplot(data = dataset1[dataset1$s == 10, ], aes(x = method, y = coverage)) + \n",
    "  geom_boxplot() + \n",
    "  xlab('') + \n",
    "  theme_settings +\n",
    "#   coord_cartesian(ylim = c(0.75, 1)) +\n",
    "  facet_grid(lam1Type~.) + \n",
    "  geom_hline(yintercept = 0.95, linetype = 3)\n",
    "\n",
    "# ggsave('coverage2_single_A_ls.pdf', width = 6.67, height = 6.67, units = 'in')"
   ]
  },
  {
   "cell_type": "code",
   "execution_count": 8,
   "metadata": {},
   "outputs": [
    {
     "data": {},
     "metadata": {},
     "output_type": "display_data"
    },
    {
     "data": {
      "image/png": "[encoded data removed]",
      "text/plain": [
       "plot without title"
      ]
     },
     "metadata": {},
     "output_type": "display_data"
    }
   ],
   "source": [
    "bw = 0.2\n",
    "ggplot(data = dataset3[dataset3$bw == bw, ], aes(x = bs, y = r, color = method, shape = method)) + \n",
    "  geom_line(size = 0.5, alpha = 0.8) +\n",
    "  geom_point(size = 2.5, alpha = 0.8) +\n",
    "  geom_hline(yintercept = baseline, linetype = 3) +\n",
    "  scale_color_discrete(name = element_blank()) +\n",
    "  scale_shape_discrete(name = element_blank()) +\n",
    "  facet_grid(design ~ lam1Type, scales=\"free_y\") + \n",
    "  ylab(\"radii\") +\n",
    "  xlab('b') + \n",
    "  theme_settings\n",
    "\n",
    "ggsave('stein_r2.pdf', width = 6.67, height = 6.67, units = 'in')"
   ]
  },
  {
   "cell_type": "code",
   "execution_count": 9,
   "metadata": {},
   "outputs": [
    {
     "data": {},
     "metadata": {},
     "output_type": "display_data"
    },
    {
     "data": {
      "image/png": "[encoded data removed]",
      "text/plain": [
       "plot without title"
      ]
     },
     "metadata": {},
     "output_type": "display_data"
    }
   ],
   "source": [
    "ggplot(data = dataset2[dataset2$s == 10, ], aes(x = b, y = r, color = method, shape = method)) + \n",
    "  geom_line(size = 0.5, alpha = 0.8) +\n",
    "  geom_point(size = 2.5, alpha = 0.8) +\n",
    "  geom_hline(yintercept = baseline, linetype = 3) +\n",
    "  scale_color_discrete(name = element_blank(), guide = guide_legend(nrow = 2)) +\n",
    "  scale_shape_discrete(name = element_blank()) +\n",
    "  facet_grid(design ~ lam1Type, scales=\"free_y\") + \n",
    "  theme_settings +\n",
    "  ylab('radii')\n",
    "ggsave('lasso_r.pdf', width = 6.67, height = 6.67, units = 'in')"
   ]
  },
  {
   "cell_type": "code",
   "execution_count": 10,
   "metadata": {
    "collapsed": true
   },
   "outputs": [],
   "source": [
    "dataset2$method = revalue(dataset2$method, c(\"two-step stein (volume)\"=\"two-step\\nstein (volume)\", \n",
    "                                             \"two-step stein (diameter)\"=\"two-step\\nstein (diameter)\",\n",
    "                                             \"two-step lasso (volume)\"=\"two-step\\nlasso (volume)\",\n",
    "                                             \"two-step lasso (diameter)\"=\"two-step\\nlasso (diameter)\"))"
   ]
  },
  {
   "cell_type": "raw",
   "metadata": {},
   "source": [
    "ggplot(data = dataset2[dataset2$s == 10, ], aes(x = method, y = coverage)) + \n",
    "  geom_boxplot() + \n",
    "  coord_cartesian(ylim = c(0.85, 1)) +\n",
    "  xlab('') + \n",
    "  theme_settings\n",
    "ggsave('coverage2.pdf', width = 6.67, height = 2, units = 'in')"
   ]
  },
  {
   "cell_type": "raw",
   "metadata": {},
   "source": [
    "ggplot(data = dataset2[dataset2$s == 10, ], aes(x = method, y = coverage)) + \n",
    "  geom_boxplot() + \n",
    "  xlab('') + \n",
    "  theme_settings +\n",
    "  facet_grid(lam1Type~.) + \n",
    "  geom_hline(yintercept = 0.95, linetype = 3)\n",
    "ggsave('coverage2_new.pdf', width = 6.67, height = 6.67, units = 'in')"
   ]
  },
  {
   "cell_type": "raw",
   "metadata": {},
   "source": [
    "# compare oracle with two-step oracle\n",
    "temp = rbind(dataset1[dataset1$method == 'oracle',], dataset2[dataset2$method == 'two-step\\nlasso (diameter)',c('b','s','lam1Type','method','design','r','coverage')])\n",
    "ggplot(data = temp[temp$s == 10, ], aes(x = b, y = r, color = method, shape = method)) + \n",
    "  geom_line(size = 0.5, alpha = 0.8) +\n",
    "  geom_point(size = 2.5, alpha = 0.8) +\n",
    "  geom_hline(yintercept = baseline, linetype = 3) +\n",
    "  scale_color_discrete(name = element_blank()) +\n",
    "  scale_shape_discrete(name = element_blank()) +\n",
    "  facet_grid(design ~ lam1Type, scales=\"free_y\") + \n",
    "  ylab(\"radii\") +\n",
    "  xlab('b') + \n",
    "  theme_settings\n",
    "\n",
    "ggsave('oracle_twoStep_r.pdf', width = 6.67, height = 6.67, units = 'in')\n",
    "\n",
    "ggplot(data = temp[temp$s == 10, ], aes(x = method, y = coverage)) + \n",
    "  geom_boxplot() + \n",
    "  xlab('') + \n",
    "  theme_settings +\n",
    "  coord_cartesian(ylim = c(0.75, 1)) +\n",
    "  facet_grid(lam1Type~.) + \n",
    "  geom_hline(yintercept = 0.95, linetype = 3)\n",
    "\n",
    "ggsave('oracle_twoStep_coverage.pdf', width = 6.67, height = 6.67, units = 'in')\n"
   ]
  },
  {
   "cell_type": "markdown",
   "metadata": {
    "collapsed": true
   },
   "source": [
    "## the case of non sparsity"
   ]
  },
  {
   "cell_type": "code",
   "execution_count": 4,
   "metadata": {
    "collapsed": true
   },
   "outputs": [],
   "source": [
    "load('summary_non_sparse.Rdata')\n",
    "N = 200\n",
    "baseline = sqrt(qchisq(p = 0.95, df = N) / N)"
   ]
  },
  {
   "cell_type": "code",
   "execution_count": 5,
   "metadata": {
    "collapsed": true
   },
   "outputs": [],
   "source": [
    "adaptive = ddply(summary_adaptive_single[summary_adaptive_single$lam1Type == '1se',], \n",
    "                 .(b, s, lam1Type, method, design), summarise, \n",
    "                 r = mean(r), coverage = mean(coverage))\n",
    "oracle = ddply(summary_oracle_single_version2[summary_oracle_single_version2$lam1Type == '1se',], \n",
    "                                              .(b, s, lam1Type, method, design), summarise, \n",
    "                                              r = mean(r), coverage = mean(coverage))\n",
    "Stein_vol = ddply(summary_volume_stein_single, .(b, s, lam1Type, method, design), summarise, \n",
    "                         r = mean(exp(logVol / N)), coverage = mean(coverage))\n",
    "Stein_radius = ddply(summary_radius_stein_single, .(b, s, lam1Type, method, design), summarise, \n",
    "                            r = mean(exp(logVol / N)), coverage = mean(coverage))\n",
    "Lasso_vol = ddply(summary_volume_lasso_single, .(b, s, lam1Type, method, design), summarise, \n",
    "              r = mean(exp(logVol / N)), coverage = mean(coverage))\n",
    "Lasso_radius = ddply(summary_radius_lasso_single, .(b, s, lam1Type, method, design), summarise, \n",
    "              r = mean(exp(logVol / N)), coverage = mean(coverage))\n",
    "\n",
    "dataset5 = rbind(adaptive, oracle, Stein_vol)\n",
    "dataset5$method[dataset5$method == 'twoStepSteinVolume'] = 'two-step stein'\n",
    "dataset5$method = factor(dataset5$method, levels = c('adaptive', 'oracle', 'two-step stein'))\n",
    "dataset5$design = factor(dataset5$design, levels = c('toeplitz','exp. decay', 'equal cor.'))\n",
    "dataset5$lam1Type = factor(dataset5$lam1Type, levels = c('val', 'cv', '1se'))\n",
    "\n",
    "Stein_vol['c'] = 'vol'\n",
    "Stein_radius['c'] = 'radius'\n",
    "Lasso_vol['c'] = 'vol'\n",
    "Lasso_radius['c'] = 'radius'\n",
    "dataset6 = rbind(Stein_vol, Stein_radius, Lasso_vol, Lasso_radius)\n",
    "dataset6$method[dataset6$method == 'twoStepSteinVolume'] = 'two-step stein (volume)'\n",
    "dataset6$method[dataset6$method == 'twoStepSteinRadius'] = 'two-step stein (diameter)'\n",
    "dataset6$method[dataset6$method == 'twoStepLassoVolume'] = 'two-step lasso (volume)'\n",
    "dataset6$method[dataset6$method == 'twoStepLassoRadius'] = 'two-step lasso (diameter)'\n",
    "dataset6$method = factor(dataset6$method, levels = c('two-step stein (volume)', 'two-step stein (diameter)', \n",
    "                                                     'two-step lasso (volume)', 'two-step lasso (diameter)'))\n",
    "dataset6$design = factor(dataset6$design, levels = c('toeplitz','exp. decay', 'equal cor.'))\n",
    "dataset6$lam1Type = factor(dataset6$lam1Type, levels = c('val', 'cv', '1se'))"
   ]
  },
  {
   "cell_type": "code",
   "execution_count": 6,
   "metadata": {
    "collapsed": true
   },
   "outputs": [],
   "source": [
    "adaptive_m = ddply(summary_adaptive_multiple[summary_adaptive_multiple$lam1Type == '1se',]\n",
    "                   , .(bs, bw, lam1Type, method, design), summarise,\n",
    "                   r = mean(r), coverage = mean(coverage))\n",
    "oracle_m = ddply(summary_oracle_multiple_version2[summary_oracle_multiple_version2$lam1Type == '1se',], \n",
    "                 .(bs, bw, lam1Type, method, design), summarise, \n",
    "                 r = mean(r), coverage = mean(coverage))\n",
    "Stein_vol_m = ddply(summary_volume_stein_multiple, .(bs, bw, lam1Type, method, design), summarise, \n",
    "              r = mean(exp(logVol / N)), coverage = mean(coverage))\n",
    "Stein_radius_m = ddply(summary_radius_stein_multiple, .(bs, bw, lam1Type, method, design), summarise, \n",
    "              r = mean(exp(logVol / N)), coverage = mean(coverage))\n",
    "Lasso_vol_m = ddply(summary_volume_lasso_multiple, .(bs, bw, lam1Type, method, design), summarise, \n",
    "              r = mean(exp(logVol / N)), coverage = mean(coverage))\n",
    "Lasso_radius_m = ddply(summary_radius_lasso_multiple, .(bs, bw, lam1Type, method, design), summarise, \n",
    "              r = mean(exp(logVol / N)), coverage = mean(coverage))\n",
    "\n",
    "dataset7 = rbind(adaptive_m, oracle_m, Stein_vol_m)\n",
    "dataset7$method[dataset7$method == 'twoStepSteinVolume'] = 'two-step stein'\n",
    "dataset7$method = factor(dataset7$method, levels = c('adaptive', 'oracle', 'two-step stein'))\n",
    "dataset7$design = factor(dataset7$design, levels = c('toeplitz','exp. decay', 'equal cor.'))\n",
    "dataset7$lam1Type = factor(dataset7$lam1Type, levels = c('val', 'cv', '1se'))\n",
    "\n",
    "Stein_vol_m['c'] = 'vol'\n",
    "Stein_radius_m['c'] = 'radius'\n",
    "Lasso_vol_m['c'] = 'vol'\n",
    "Lasso_radius_m['c'] = 'radius'\n",
    "\n",
    "dataset8 = rbind(Stein_vol_m, Stein_radius_m, Lasso_vol_m, Lasso_radius_m)\n",
    "dataset8$method[dataset8$method == 'twoStepSteinVolume'] = 'two-step stein (volume)'\n",
    "dataset8$method[dataset8$method == 'twoStepSteinRadius'] = 'two-step stein (diameter)'\n",
    "dataset8$method[dataset8$method == 'twoStepLassoVolume'] = 'two-step lasso (volume)'\n",
    "dataset8$method[dataset8$method == 'twoStepLassoRadius'] = 'two-step lasso (diameter)'\n",
    "dataset8$method = factor(dataset8$method, levels = c('two-step stein (volume)', 'two-step stein (diameter)', \n",
    "                                                     'two-step lasso (volume)', 'two-step lasso (diameter)'))\n",
    "dataset8$design = factor(dataset8$design, levels = c('toeplitz','exp. decay', 'equal cor.'))\n",
    "dataset8$lam1Type = factor(dataset8$lam1Type, levels = c('val', 'cv', '1se'))"
   ]
  },
  {
   "cell_type": "raw",
   "metadata": {},
   "source": [
    "ggplot(data = dataset5[dataset5$s == 100, ], aes(x = b, y = r, color = method, shape = method)) + \n",
    "  geom_line(size = 0.5, alpha = 0.8) +\n",
    "  geom_point(size = 1.5, alpha = 0.8) +\n",
    "  geom_hline(yintercept = baseline, linetype = 3) +\n",
    "  scale_color_discrete(name = element_blank()) +\n",
    "  scale_shape_discrete(name = element_blank()) +\n",
    "  ylab('radii') + \n",
    "  theme_settings\n",
    "ggsave('nonsparse_scenario1_radius.pdf', width = 6.67, height = 6.67, units = 'in')"
   ]
  },
  {
   "cell_type": "raw",
   "metadata": {},
   "source": [
    "ggplot(data = dataset5[dataset5$s == 100, ], aes(x = method, y = coverage)) + \n",
    "  geom_boxplot() + \n",
    "  xlab('') + \n",
    "  theme_settings +\n",
    "  coord_cartesian(ylim = c(0.75, 1)) +\n",
    "  geom_hline(yintercept = 0.95, linetype = 3)\n",
    "ggsave('nonsparse_scenario1_coverage.pdf', width = 6.67, height = 2.3, units = 'in')"
   ]
  },
  {
   "cell_type": "raw",
   "metadata": {
    "scrolled": false
   },
   "source": [
    "bw = 0.2\n",
    "ggplot(data = dataset7[dataset7$bw == bw, ], aes(x = bs, y = r, color = method, shape = method)) + \n",
    "  geom_line(size = 0.5, alpha = 0.8) +\n",
    "  geom_point(size = 1.5, alpha = 0.8) +\n",
    "  geom_hline(yintercept = baseline, linetype = 3) +\n",
    "  scale_color_discrete(name = element_blank()) +\n",
    "  scale_shape_discrete(name = element_blank()) +\n",
    "  ylab(\"radii\") +\n",
    "  xlab('b') + \n",
    "  theme_settings\n",
    "ggsave('nonsparse_scenario2_radius.pdf', width = 6.67, height = 6.67, units = 'in')"
   ]
  },
  {
   "cell_type": "raw",
   "metadata": {},
   "source": [
    "ggplot(data = dataset7[dataset7$bw == 0.2, ], aes(x = method, y = coverage)) + \n",
    "  geom_boxplot() + \n",
    "  xlab('') + \n",
    "  theme_settings +\n",
    "  geom_hline(yintercept = 0.95, linetype = 3)\n",
    "ggsave('nonsparse_scenario2_coverage.pdf', width = 6.67, height = 2.3, units = 'in')\n",
    "#coord_cartesian(ylim = c(0.75, 1)) +"
   ]
  },
  {
   "cell_type": "markdown",
   "metadata": {},
   "source": [
    "# process data and combine single and multiple into one"
   ]
  },
  {
   "cell_type": "code",
   "execution_count": 7,
   "metadata": {
    "collapsed": true
   },
   "outputs": [],
   "source": [
    "temp1 = dataset5[,c('b', 'method', 'r', 'coverage')]\n",
    "temp1['type'] = 'single'\n",
    "\n",
    "\n",
    "temp2 = dataset7[,c('bs', 'method', 'r', 'coverage')]\n",
    "colnames(temp2) = c('b', 'method', 'r', 'coverage')\n",
    "temp2['type'] = 'double'\n",
    "\n",
    "temp = rbind(temp1, temp2)\n",
    "temp$type = factor(temp$type)"
   ]
  },
  {
   "cell_type": "code",
   "execution_count": 8,
   "metadata": {
    "collapsed": true
   },
   "outputs": [],
   "source": [
    "theme2 = theme_bw() + \n",
    "  theme(panel.grid = element_blank(), \n",
    "        text=element_text(size=14), \n",
    "        plot.title = element_text(hjust = 0.5),\n",
    "        legend.background=element_blank(),\n",
    "        legend.key=element_blank(), \n",
    "        legend.key.height=unit(1, 'cm'),\n",
    "        strip.background = element_blank(),\n",
    "        legend.position = 'bottom',\n",
    "        strip.placement = \"outside\")"
   ]
  },
  {
   "cell_type": "code",
   "execution_count": 9,
   "metadata": {
    "collapsed": true,
    "scrolled": false
   },
   "outputs": [],
   "source": [
    "levels(temp$type) = c('(a) First way to generate coefficients', '(b) Second way to generate coefficients')\n",
    "fig_r = ggplot(data = temp, aes(x = b, y = r, color = method, shape = method)) + \n",
    "  geom_line(size = 0.5, alpha = 0.8) +\n",
    "  geom_point(size = 2.5, alpha = 0.8) +\n",
    "  geom_hline(yintercept = baseline, linetype = 3) +\n",
    "  scale_color_discrete(name = element_blank()) +\n",
    "  scale_shape_discrete(name = element_blank()) +\n",
    "  facet_wrap(. ~ type, scales=\"free_y\") +\n",
    "  ylab(\"radii\") +\n",
    "  xlab('b') + \n",
    "  theme2"
   ]
  },
  {
   "cell_type": "code",
   "execution_count": 10,
   "metadata": {
    "collapsed": true
   },
   "outputs": [],
   "source": [
    "levels(temp$type) = c('(c) First way to generate coefficients', '(d) Second way to generate coefficients')\n",
    "fig_cov = ggplot(data = temp, aes(x = method, y = coverage)) + \n",
    "  geom_boxplot() + \n",
    "  xlab('') + \n",
    "  geom_hline(yintercept = 0.95, linetype = 3) +\n",
    "  facet_wrap(. ~ type, scales=\"free_y\", nrow=1) +\n",
    "  coord_cartesian(ylim = c(0.75, 1)) +\n",
    "  theme2"
   ]
  },
  {
   "cell_type": "code",
   "execution_count": 11,
   "metadata": {},
   "outputs": [
    {
     "data": {
      "image/png": "[encoded data removed]",
      "text/plain": [
       "plot without title"
      ]
     },
     "metadata": {},
     "output_type": "display_data"
    }
   ],
   "source": [
    "library(gridBase)\n",
    "library(gridExtra)\n",
    "fig_final = grid.arrange(fig_r, fig_cov, nrow = 2, heights = c(5, 4))\n",
    "ggsave('dense.pdf', fig_final, width = 6.67, height = 7.2, units = 'in')"
   ]
  },
  {
   "cell_type": "code",
   "execution_count": null,
   "metadata": {
    "collapsed": true
   },
   "outputs": [],
   "source": []
  },
  {
   "cell_type": "code",
   "execution_count": 20,
   "metadata": {
    "collapsed": true
   },
   "outputs": [],
   "source": [
    "temp = ddply(summary_volume_stein_multiple, .(bs, bw, lam1Type, method, design), summarise, \n",
    "              r = mean(exp(logVol / N)), coverage = mean(coverage), k = mean(k))"
   ]
  },
  {
   "cell_type": "code",
   "execution_count": null,
   "metadata": {
    "collapsed": true
   },
   "outputs": [],
   "source": []
  },
  {
   "cell_type": "code",
   "execution_count": 21,
   "metadata": {},
   "outputs": [
    {
     "data": {},
     "metadata": {},
     "output_type": "display_data"
    },
    {
     "data": {
      "image/png": "[encoded data removed]",
      "text/plain": [
       "plot without title"
      ]
     },
     "metadata": {},
     "output_type": "display_data"
    }
   ],
   "source": [
    "ggplot(data = summary_volume_stein_single[summary_volume_stein_single$s == 100,]) + \n",
    "geom_boxplot(aes(x = factor(b), y = k)) +\n",
    "xlab('b') + ylab(expression('k := rank(' * 'X'[A] * ')')) +\n",
    "theme_settings +\n",
    "ggsave('k_b.pdf', width = 6.67, height = 2.3, units = 'in')"
   ]
  },
  {
   "cell_type": "code",
   "execution_count": 22,
   "metadata": {
    "scrolled": false
   },
   "outputs": [
    {
     "data": {},
     "metadata": {},
     "output_type": "display_data"
    },
    {
     "data": {
      "image/png": "[encoded data removed]",
      "text/plain": [
       "plot without title"
      ]
     },
     "metadata": {},
     "output_type": "display_data"
    }
   ],
   "source": [
    "ggplot(data = summary_volume_stein_multiple[summary_volume_stein_multiple$bw == 0.2,]) + \n",
    "geom_boxplot(aes(x = factor(bs), y = k))\n"
   ]
  },
  {
   "cell_type": "code",
   "execution_count": 23,
   "metadata": {
    "scrolled": true
   },
   "outputs": [
    {
     "data": {
      "text/html": [
       "<table>\n",
       "<thead><tr><th scope=col>b</th><th scope=col>count</th></tr></thead>\n",
       "<tbody>\n",
       "\t<tr><td>0.1</td><td>10 </td></tr>\n",
       "\t<tr><td>0.3</td><td> 9 </td></tr>\n",
       "\t<tr><td>0.5</td><td> 4 </td></tr>\n",
       "\t<tr><td>0.7</td><td> 7 </td></tr>\n",
       "\t<tr><td>0.9</td><td> 3 </td></tr>\n",
       "\t<tr><td>1.0</td><td> 3 </td></tr>\n",
       "\t<tr><td>2.0</td><td> 4 </td></tr>\n",
       "\t<tr><td>3.0</td><td>11 </td></tr>\n",
       "\t<tr><td>4.0</td><td> 8 </td></tr>\n",
       "\t<tr><td>5.0</td><td>14 </td></tr>\n",
       "</tbody>\n",
       "</table>\n"
      ],
      "text/latex": [
       "\\begin{tabular}{r|ll}\n",
       " b & count\\\\\n",
       "\\hline\n",
       "\t 0.1 & 10 \\\\\n",
       "\t 0.3 &  9 \\\\\n",
       "\t 0.5 &  4 \\\\\n",
       "\t 0.7 &  7 \\\\\n",
       "\t 0.9 &  3 \\\\\n",
       "\t 1.0 &  3 \\\\\n",
       "\t 2.0 &  4 \\\\\n",
       "\t 3.0 & 11 \\\\\n",
       "\t 4.0 &  8 \\\\\n",
       "\t 5.0 & 14 \\\\\n",
       "\\end{tabular}\n"
      ],
      "text/markdown": [
       "\n",
       "b | count | \n",
       "|---|---|---|---|---|---|---|---|---|---|\n",
       "| 0.1 | 10  | \n",
       "| 0.3 |  9  | \n",
       "| 0.5 |  4  | \n",
       "| 0.7 |  7  | \n",
       "| 0.9 |  3  | \n",
       "| 1.0 |  3  | \n",
       "| 2.0 |  4  | \n",
       "| 3.0 | 11  | \n",
       "| 4.0 |  8  | \n",
       "| 5.0 | 14  | \n",
       "\n",
       "\n"
      ],
      "text/plain": [
       "   b   count\n",
       "1  0.1 10   \n",
       "2  0.3  9   \n",
       "3  0.5  4   \n",
       "4  0.7  7   \n",
       "5  0.9  3   \n",
       "6  1.0  3   \n",
       "7  2.0  4   \n",
       "8  3.0 11   \n",
       "9  4.0  8   \n",
       "10 5.0 14   "
      ]
     },
     "metadata": {},
     "output_type": "display_data"
    }
   ],
   "source": [
    "ddply(summary_volume_stein_single, .(b), summarise, count = sum(coverage == F))\n"
   ]
  },
  {
   "cell_type": "markdown",
   "metadata": {
    "collapsed": true
   },
   "source": [
    "# Real data"
   ]
  },
  {
   "cell_type": "code",
   "execution_count": 1,
   "metadata": {
    "collapsed": true
   },
   "outputs": [],
   "source": [
    "load('Rdata_pool/real_data_simulation3.Rdata')"
   ]
  },
  {
   "cell_type": "code",
   "execution_count": 24,
   "metadata": {},
   "outputs": [
    {
     "data": {
      "text/html": [
       "0.985071035514127"
      ],
      "text/latex": [
       "0.985071035514127"
      ],
      "text/markdown": [
       "0.985071035514127"
      ],
      "text/plain": [
       "[1] 0.985071"
      ]
     },
     "metadata": {},
     "output_type": "display_data"
    },
    {
     "data": {
      "text/html": [
       "0.9425"
      ],
      "text/latex": [
       "0.9425"
      ],
      "text/markdown": [
       "0.9425"
      ],
      "text/plain": [
       "[1] 0.9425"
      ]
     },
     "metadata": {},
     "output_type": "display_data"
    }
   ],
   "source": [
    "mean(adaptive_unknownSigma_groupSplit2$r)\n",
    "mean(adaptive_unknownSigma_groupSplit2$coverage)"
   ]
  },
  {
   "cell_type": "code",
   "execution_count": 25,
   "metadata": {},
   "outputs": [
    {
     "data": {
      "text/html": [
       "0.411201093373992"
      ],
      "text/latex": [
       "0.411201093373992"
      ],
      "text/markdown": [
       "0.411201093373992"
      ],
      "text/plain": [
       "[1] 0.4112011"
      ]
     },
     "metadata": {},
     "output_type": "display_data"
    },
    {
     "data": {
      "text/html": [
       "0.355700294992869"
      ],
      "text/latex": [
       "0.355700294992869"
      ],
      "text/markdown": [
       "0.355700294992869"
      ],
      "text/plain": [
       "[1] 0.3557003"
      ]
     },
     "metadata": {},
     "output_type": "display_data"
    },
    {
     "data": {
      "text/html": [
       "0.404454934475885"
      ],
      "text/latex": [
       "0.404454934475885"
      ],
      "text/markdown": [
       "0.404454934475885"
      ],
      "text/plain": [
       "[1] 0.4044549"
      ]
     },
     "metadata": {},
     "output_type": "display_data"
    },
    {
     "data": {
      "text/html": [
       "0.9325"
      ],
      "text/latex": [
       "0.9325"
      ],
      "text/markdown": [
       "0.9325"
      ],
      "text/plain": [
       "[1] 0.9325"
      ]
     },
     "metadata": {},
     "output_type": "display_data"
    }
   ],
   "source": [
    "mean(exp(twostep_unknownSigma_realSingle_A_groupSplit2$logVol / 44))\n",
    "mean(twostep_unknownSigma_realSingle_A_groupSplit2$r_s)\n",
    "mean(twostep_unknownSigma_realSingle_A_groupSplit2$r_w)\n",
    "mean(twostep_unknownSigma_realSingle_A_groupSplit2$coverage)\n"
   ]
  },
  {
   "cell_type": "code",
   "execution_count": 29,
   "metadata": {},
   "outputs": [
    {
     "data": {
      "text/html": [
       "0.429222997259806"
      ],
      "text/latex": [
       "0.429222997259806"
      ],
      "text/markdown": [
       "0.429222997259806"
      ],
      "text/plain": [
       "[1] 0.429223"
      ]
     },
     "metadata": {},
     "output_type": "display_data"
    }
   ],
   "source": [
    "mean(adaptive_unknownSigma_groupSplit2$hsigma) * sqrt(qchisq(0.95, df = 44)/44)"
   ]
  },
  {
   "cell_type": "code",
   "execution_count": 30,
   "metadata": {},
   "outputs": [
    {
     "data": {
      "text/html": [
       "0.847"
      ],
      "text/latex": [
       "0.847"
      ],
      "text/markdown": [
       "0.847"
      ],
      "text/plain": [
       "[1] 0.847"
      ]
     },
     "metadata": {},
     "output_type": "display_data"
    }
   ],
   "source": [
    "0.430 + 0.417"
   ]
  },
  {
   "cell_type": "code",
   "execution_count": 16,
   "metadata": {},
   "outputs": [
    {
     "data": {
      "text/html": [
       "<style>\n",
       ".list-inline {list-style: none; margin:0; padding: 0}\n",
       ".list-inline>li {display: inline-block}\n",
       ".list-inline>li:not(:last-child)::after {content: \"\\00b7\"; padding: 0 .5ex}\n",
       "</style>\n",
       "<ol class=list-inline><li>800</li><li>13</li></ol>\n"
      ],
      "text/latex": [
       "\\begin{enumerate*}\n",
       "\\item 800\n",
       "\\item 13\n",
       "\\end{enumerate*}\n"
      ],
      "text/markdown": [
       "1. 800\n",
       "2. 13\n",
       "\n",
       "\n"
      ],
      "text/plain": [
       "[1] 800  13"
      ]
     },
     "metadata": {},
     "output_type": "display_data"
    }
   ],
   "source": [
    "dim(twostep_unknownSigma_realSingle_A_even)"
   ]
  },
  {
   "cell_type": "code",
   "execution_count": 31,
   "metadata": {},
   "outputs": [
    {
     "data": {
      "text/html": [
       "0.482305484736094"
      ],
      "text/latex": [
       "0.482305484736094"
      ],
      "text/markdown": [
       "0.482305484736094"
      ],
      "text/plain": [
       "[1] 0.4823055"
      ]
     },
     "metadata": {},
     "output_type": "display_data"
    }
   ],
   "source": [
    "mean(twostep_unknownSigma_realSingle_A_groupSplit2[twostep_unknownSigma_realSingle_A_groupSplit2$r_s != 0,]$r_s)\n"
   ]
  }
 ],
 "metadata": {
  "kernelspec": {
   "display_name": "R",
   "language": "R",
   "name": "ir"
  },
  "language_info": {
   "codemirror_mode": "r",
   "file_extension": ".r",
   "mimetype": "text/x-r-source",
   "name": "R",
   "pygments_lexer": "r",
   "version": "3.6.2"
  }
 },
 "nbformat": 4,
 "nbformat_minor": 2
}
