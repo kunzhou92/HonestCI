{
 "cells": [
  {
   "cell_type": "code",
   "execution_count": 54,
   "metadata": {
    "collapsed": true
   },
   "outputs": [],
   "source": [
    "library(plyr)\n",
    "library(ggplot2)"
   ]
  },
  {
   "cell_type": "code",
   "execution_count": 55,
   "metadata": {
    "collapsed": true
   },
   "outputs": [],
   "source": [
    "theme_settings = theme_bw() + \n",
    "  theme(panel.grid = element_blank(), \n",
    "        text=element_text(size=15), \n",
    "        plot.title = element_text(hjust = 0.5),\n",
    "        legend.background=element_blank(),\n",
    "        legend.key=element_blank(), \n",
    "        legend.key.height=unit(1, 'cm'),\n",
    "        strip.background = element_blank(),\n",
    "        legend.position = 'bottom')\n",
    "N = 200\n",
    "baseline = sqrt(qchisq(p = 0.95, df = N) / N)"
   ]
  },
  {
   "cell_type": "markdown",
   "metadata": {},
   "source": [
    "# Heterogeneity"
   ]
  },
  {
   "cell_type": "code",
   "execution_count": 56,
   "metadata": {
    "collapsed": true
   },
   "outputs": [],
   "source": [
    "load('Rdata_pool/quadratic_incre_9.Rdata')\n",
    "summary_adaptive_single['type'] = 'quadratic'\n",
    "summary_volume_stein_single['type'] = 'quadratic'\n",
    "quad_adp = summary_adaptive_single\n",
    "quad_stein = summary_volume_stein_single"
   ]
  },
  {
   "cell_type": "code",
   "execution_count": 57,
   "metadata": {
    "collapsed": true
   },
   "outputs": [],
   "source": [
    "load('Rdata_pool/t_linear_incre_4.Rdata')\n",
    "summary_adaptive_single['type'] = 'linear'\n",
    "summary_volume_stein_single['type'] = 'linear'\n",
    "lin_adp = summary_adaptive_single\n",
    "lin_stein = summary_volume_stein_single"
   ]
  },
  {
   "cell_type": "code",
   "execution_count": 68,
   "metadata": {
    "collapsed": true
   },
   "outputs": [],
   "source": [
    "adaptive = ddply(rbind(lin_adp, quad_adp), .(b, s, lam1Type, method, design, type), summarise, \n",
    "              r = mean(r), coverage = mean(coverage))\n",
    "Stein_vol = ddply(rbind(lin_stein, quad_stein), .(b, s, lam1Type, method, design, type), summarise, \n",
    "              r = mean(exp(logVol / N)), coverage = mean(coverage))\n",
    "dataset1 = rbind(adaptive, Stein_vol)\n",
    "dataset1$method[dataset1$method == 'twoStepSteinVolume'] = 'two-step stein'\n",
    "dataset1$method = factor(dataset1$method, levels = c('adaptive', 'two-step stein'))\n",
    "dataset1$design = factor(dataset1$design, levels = c('toeplitz'))\n",
    "dataset1$lam1Type = factor(dataset1$lam1Type, levels = c('1se'))\n",
    "\n",
    "N = 200\n",
    "baseline1 = data.frame(y = c(mean(lin_adp$hsigma), mean(quad_adp$hsigma)) * sqrt(qchisq(p = 0.95, df = N) / N),\n",
    "                      type = c('linear', 'quadratic'))"
   ]
  },
  {
   "cell_type": "code",
   "execution_count": 126,
   "metadata": {
    "scrolled": false
   },
   "outputs": [
    {
     "data": {
      "image/png": "[encoded data removed]",
      "text/plain": [
       "plot without title"
      ]
     },
     "metadata": {
      "image/png": {
       "height": 420,
       "width": 420
      },
      "text/plain": {
       "height": 420,
       "width": 420
      }
     },
     "output_type": "display_data"
    }
   ],
   "source": [
    "ggplot(data = dataset1, aes(x = b, y = r, color = method, shape = method)) + \n",
    "  geom_line(size = 0.5, alpha = 0.8) +\n",
    "  geom_point(size = 2.5, alpha = 0.8) +\n",
    "  geom_hline(data = baseline1, aes(yintercept = y), linetype = 3) +\n",
    "  scale_color_discrete(name = element_blank()) +\n",
    "  scale_shape_discrete(name = element_blank()) +\n",
    "  facet_grid(. ~ type, scales=\"free_y\") + \n",
    "  ylab('radii') + \n",
    "  expand_limits(y = 0) +\n",
    "  theme_settings\n",
    "# ggsave('r_heterogeneity.pdf', width = 6.67, height = 6.67, units = 'in')"
   ]
  },
  {
   "cell_type": "code",
   "execution_count": 127,
   "metadata": {},
   "outputs": [
    {
     "data": {
      "image/png": "[encoded data removed]",
      "text/plain": [
       "plot without title"
      ]
     },
     "metadata": {
      "image/png": {
       "height": 420,
       "width": 420
      },
      "text/plain": {
       "height": 420,
       "width": 420
      }
     },
     "output_type": "display_data"
    }
   ],
   "source": [
    "ggplot(data = dataset1[dataset1$s == 10, ], aes(x = b, y = coverage, color = method, shape = method)) + \n",
    "  geom_line(size = 0.5, alpha = 0.8) +\n",
    "  geom_point(size = 2.5, alpha = 0.8) +\n",
    "  geom_hline(yintercept = 0.95, linetype = 3) +\n",
    "  scale_color_discrete(name = element_blank(), guide = guide_legend(nrow = 2)) +\n",
    "  scale_shape_discrete(name = element_blank()) +\n",
    "  facet_grid(type ~ ., scales=\"free_y\") + \n",
    "  ylab('coverage') + \n",
    "  theme_settings\n",
    "# ggsave('coverage2_heterogeneity.pdf', width = 6.67, height = 6.67, units = 'in')"
   ]
  },
  {
   "cell_type": "code",
   "execution_count": 128,
   "metadata": {},
   "outputs": [],
   "source": [
    "g2 = ggplot(data = dataset1, aes(x = method, y = coverage)) + \n",
    "  geom_boxplot() + \n",
    "  xlab('') + \n",
    "  theme_settings +\n",
    "#   coord_cartesian(ylim = c(0.75, 1)) +\n",
    "#   facet_grid(lam1Type~.) + \n",
    "  geom_hline(yintercept = 0.95, linetype = 3)\n",
    "\n",
    "# ggsave('coverage_heterogeneity.pdf', width = 6.67, height = 6.67, units = 'in')"
   ]
  },
  {
   "cell_type": "markdown",
   "metadata": {},
   "source": [
    "# Normality"
   ]
  },
  {
   "cell_type": "code",
   "execution_count": 74,
   "metadata": {
    "collapsed": true
   },
   "outputs": [],
   "source": [
    "load('Rdata_pool/t_df4.Rdata')\n",
    "summary_adaptive_single['type'] = 't_4'\n",
    "summary_volume_stein_single['type'] = 't_4'\n",
    "t4_adp = summary_adaptive_single\n",
    "t4_stein = summary_volume_stein_single"
   ]
  },
  {
   "cell_type": "code",
   "execution_count": 75,
   "metadata": {
    "collapsed": true
   },
   "outputs": [],
   "source": [
    "load('Rdata_pool/t_df7.Rdata')\n",
    "summary_adaptive_single['type'] = 't_7'\n",
    "summary_volume_stein_single['type'] = 't_7'\n",
    "t7_adp = summary_adaptive_single\n",
    "t7_stein = summary_volume_stein_single"
   ]
  },
  {
   "cell_type": "code",
   "execution_count": 76,
   "metadata": {
    "collapsed": true
   },
   "outputs": [],
   "source": [
    "adaptive = ddply(rbind(t4_adp, t7_adp), .(b, s, lam1Type, method, design, type), summarise, \n",
    "              r = mean(r), coverage = mean(coverage))\n",
    "Stein_vol = ddply(rbind(t4_stein, t7_stein), .(b, s, lam1Type, method, design, type), summarise, \n",
    "              r = mean(exp(logVol / N)), coverage = mean(coverage))\n",
    "dataset2 = rbind(adaptive, Stein_vol)\n",
    "dataset2$method[dataset1$method == 'twoStepSteinVolume'] = 'two-step stein'\n",
    "dataset2$method = factor(dataset1$method, levels = c('adaptive', 'two-step stein'))\n",
    "dataset2$design = factor(dataset1$design, levels = c('toeplitz'))\n",
    "dataset2$lam1Type = factor(dataset1$lam1Type, levels = c('1se'))\n",
    "\n",
    "N = 200\n",
    "baseline2 = data.frame(y = c(mean(t4_adp$hsigma), mean(t7_adp$hsigma)) * sqrt(qchisq(p = 0.95, df = N) / N),\n",
    "                      type = c('t_4', 't_7'))"
   ]
  },
  {
   "cell_type": "code",
   "execution_count": 129,
   "metadata": {},
   "outputs": [
    {
     "data": {
      "image/png": "[encoded data removed]",
      "text/plain": [
       "plot without title"
      ]
     },
     "metadata": {
      "image/png": {
       "height": 420,
       "width": 420
      },
      "text/plain": {
       "height": 420,
       "width": 420
      }
     },
     "output_type": "display_data"
    }
   ],
   "source": [
    "ggplot(data = dataset2, aes(x = b, y = r, color = method, shape = method)) + \n",
    "  geom_line(size = 0.5, alpha = 0.8) +\n",
    "  geom_point(size = 2.5, alpha = 0.8) +\n",
    "  geom_hline(data = baseline2, aes(yintercept = y), linetype = 3) +\n",
    "  scale_color_discrete(name = element_blank()) +\n",
    "  scale_shape_discrete(name = element_blank()) +\n",
    "  facet_grid(. ~ type, scales=\"free_y\") + \n",
    "  ylab('radii') + \n",
    "  expand_limits(y = 0) +\n",
    "  theme_settings\n"
   ]
  },
  {
   "cell_type": "code",
   "execution_count": 130,
   "metadata": {},
   "outputs": [
    {
     "data": {
      "image/png": "[encoded data removed]",
      "text/plain": [
       "plot without title"
      ]
     },
     "metadata": {
      "image/png": {
       "height": 420,
       "width": 420
      },
      "text/plain": {
       "height": 420,
       "width": 420
      }
     },
     "output_type": "display_data"
    }
   ],
   "source": [
    "ggplot(data = dataset2, aes(x = b, y = coverage, color = method, shape = method)) + \n",
    "  geom_line(size = 0.5, alpha = 0.8) +\n",
    "  geom_point(size = 2.5, alpha = 0.8) +\n",
    "  geom_hline(yintercept = 0.95, linetype = 3) +\n",
    "  scale_color_discrete(name = element_blank(), guide = guide_legend(nrow = 2)) +\n",
    "  scale_shape_discrete(name = element_blank()) +\n",
    "  facet_grid(type ~ ., scales=\"free_y\") + \n",
    "  ylab('coverage') + \n",
    "  theme_settings\n",
    "# ggsave('coverage2_t_distr.pdf', width = 6.67, height = 6.67, units = 'in')"
   ]
  },
  {
   "cell_type": "code",
   "execution_count": 131,
   "metadata": {},
   "outputs": [],
   "source": [
    "g3 = ggplot(data = dataset2, aes(x = method, y = coverage)) + \n",
    "  geom_boxplot() + \n",
    "  xlab('') + \n",
    "  theme_settings +\n",
    "#   coord_cartesian(ylim = c(0.75, 1)) +\n",
    "#   facet_grid(lam1Type~.) + \n",
    "  geom_hline(yintercept = 0.95, linetype = 3)\n",
    "\n",
    "# ggsave('coverage_t_distr.pdf', width = 6.67, height = 6.67, units = 'in')"
   ]
  },
  {
   "cell_type": "markdown",
   "metadata": {},
   "source": [
    "# Combination"
   ]
  },
  {
   "cell_type": "code",
   "execution_count": 156,
   "metadata": {},
   "outputs": [
    {
     "data": {
      "text/html": [
       "<style>\n",
       ".list-inline {list-style: none; margin:0; padding: 0}\n",
       ".list-inline>li {display: inline-block}\n",
       ".list-inline>li:not(:last-child)::after {content: \"\\00b7\"; padding: 0 .5ex}\n",
       "</style>\n",
       "<ol class=list-inline><li>linear</li><li>quadratic</li><li>linear</li><li>quadratic</li><li>linear</li><li>quadratic</li><li>linear</li><li>quadratic</li><li>linear</li><li>quadratic</li><li>linear</li><li>quadratic</li><li>linear</li><li>quadratic</li><li>linear</li><li>quadratic</li><li>linear</li><li>quadratic</li><li>linear</li><li>quadratic</li><li>linear</li><li>quadratic</li><li>linear</li><li>quadratic</li><li>linear</li><li>quadratic</li><li>linear</li><li>quadratic</li><li>linear</li><li>quadratic</li><li>linear</li><li>quadratic</li><li>linear</li><li>quadratic</li><li>linear</li><li>quadratic</li><li>linear</li><li>quadratic</li><li>linear</li><li>quadratic</li><li>t_4</li><li>t_7</li><li>t_4</li><li>t_7</li><li>t_4</li><li>t_7</li><li>t_4</li><li>t_7</li><li>t_4</li><li>t_7</li><li>t_4</li><li>t_7</li><li>t_4</li><li>t_7</li><li>t_4</li><li>t_7</li><li>t_4</li><li>t_7</li><li>t_4</li><li>t_7</li><li>t_4</li><li>t_7</li><li>t_4</li><li>t_7</li><li>t_4</li><li>t_7</li><li>t_4</li><li>t_7</li><li>t_4</li><li>t_7</li><li>t_4</li><li>t_7</li><li>t_4</li><li>t_7</li><li>t_4</li><li>t_7</li><li>t_4</li><li>t_7</li><li>t_4</li><li>t_7</li></ol>\n",
       "\n",
       "<details>\n",
       "\t<summary style=display:list-item;cursor:pointer>\n",
       "\t\t<strong>Levels</strong>:\n",
       "\t</summary>\n",
       "\t<style>\n",
       "\t.list-inline {list-style: none; margin:0; padding: 0}\n",
       "\t.list-inline>li {display: inline-block}\n",
       "\t.list-inline>li:not(:last-child)::after {content: \"\\00b7\"; padding: 0 .5ex}\n",
       "\t</style>\n",
       "\t<ol class=list-inline><li>'t_4'</li><li>'t_7'</li><li>'linear'</li><li>'quadratic'</li></ol>\n",
       "</details>"
      ],
      "text/latex": [
       "\\begin{enumerate*}\n",
       "\\item linear\n",
       "\\item quadratic\n",
       "\\item linear\n",
       "\\item quadratic\n",
       "\\item linear\n",
       "\\item quadratic\n",
       "\\item linear\n",
       "\\item quadratic\n",
       "\\item linear\n",
       "\\item quadratic\n",
       "\\item linear\n",
       "\\item quadratic\n",
       "\\item linear\n",
       "\\item quadratic\n",
       "\\item linear\n",
       "\\item quadratic\n",
       "\\item linear\n",
       "\\item quadratic\n",
       "\\item linear\n",
       "\\item quadratic\n",
       "\\item linear\n",
       "\\item quadratic\n",
       "\\item linear\n",
       "\\item quadratic\n",
       "\\item linear\n",
       "\\item quadratic\n",
       "\\item linear\n",
       "\\item quadratic\n",
       "\\item linear\n",
       "\\item quadratic\n",
       "\\item linear\n",
       "\\item quadratic\n",
       "\\item linear\n",
       "\\item quadratic\n",
       "\\item linear\n",
       "\\item quadratic\n",
       "\\item linear\n",
       "\\item quadratic\n",
       "\\item linear\n",
       "\\item quadratic\n",
       "\\item t\\_4\n",
       "\\item t\\_7\n",
       "\\item t\\_4\n",
       "\\item t\\_7\n",
       "\\item t\\_4\n",
       "\\item t\\_7\n",
       "\\item t\\_4\n",
       "\\item t\\_7\n",
       "\\item t\\_4\n",
       "\\item t\\_7\n",
       "\\item t\\_4\n",
       "\\item t\\_7\n",
       "\\item t\\_4\n",
       "\\item t\\_7\n",
       "\\item t\\_4\n",
       "\\item t\\_7\n",
       "\\item t\\_4\n",
       "\\item t\\_7\n",
       "\\item t\\_4\n",
       "\\item t\\_7\n",
       "\\item t\\_4\n",
       "\\item t\\_7\n",
       "\\item t\\_4\n",
       "\\item t\\_7\n",
       "\\item t\\_4\n",
       "\\item t\\_7\n",
       "\\item t\\_4\n",
       "\\item t\\_7\n",
       "\\item t\\_4\n",
       "\\item t\\_7\n",
       "\\item t\\_4\n",
       "\\item t\\_7\n",
       "\\item t\\_4\n",
       "\\item t\\_7\n",
       "\\item t\\_4\n",
       "\\item t\\_7\n",
       "\\item t\\_4\n",
       "\\item t\\_7\n",
       "\\item t\\_4\n",
       "\\item t\\_7\n",
       "\\end{enumerate*}\n",
       "\n",
       "\\emph{Levels}: \\begin{enumerate*}\n",
       "\\item 't\\_4'\n",
       "\\item 't\\_7'\n",
       "\\item 'linear'\n",
       "\\item 'quadratic'\n",
       "\\end{enumerate*}\n"
      ],
      "text/markdown": [
       "1. linear\n",
       "2. quadratic\n",
       "3. linear\n",
       "4. quadratic\n",
       "5. linear\n",
       "6. quadratic\n",
       "7. linear\n",
       "8. quadratic\n",
       "9. linear\n",
       "10. quadratic\n",
       "11. linear\n",
       "12. quadratic\n",
       "13. linear\n",
       "14. quadratic\n",
       "15. linear\n",
       "16. quadratic\n",
       "17. linear\n",
       "18. quadratic\n",
       "19. linear\n",
       "20. quadratic\n",
       "21. linear\n",
       "22. quadratic\n",
       "23. linear\n",
       "24. quadratic\n",
       "25. linear\n",
       "26. quadratic\n",
       "27. linear\n",
       "28. quadratic\n",
       "29. linear\n",
       "30. quadratic\n",
       "31. linear\n",
       "32. quadratic\n",
       "33. linear\n",
       "34. quadratic\n",
       "35. linear\n",
       "36. quadratic\n",
       "37. linear\n",
       "38. quadratic\n",
       "39. linear\n",
       "40. quadratic\n",
       "41. t_4\n",
       "42. t_7\n",
       "43. t_4\n",
       "44. t_7\n",
       "45. t_4\n",
       "46. t_7\n",
       "47. t_4\n",
       "48. t_7\n",
       "49. t_4\n",
       "50. t_7\n",
       "51. t_4\n",
       "52. t_7\n",
       "53. t_4\n",
       "54. t_7\n",
       "55. t_4\n",
       "56. t_7\n",
       "57. t_4\n",
       "58. t_7\n",
       "59. t_4\n",
       "60. t_7\n",
       "61. t_4\n",
       "62. t_7\n",
       "63. t_4\n",
       "64. t_7\n",
       "65. t_4\n",
       "66. t_7\n",
       "67. t_4\n",
       "68. t_7\n",
       "69. t_4\n",
       "70. t_7\n",
       "71. t_4\n",
       "72. t_7\n",
       "73. t_4\n",
       "74. t_7\n",
       "75. t_4\n",
       "76. t_7\n",
       "77. t_4\n",
       "78. t_7\n",
       "79. t_4\n",
       "80. t_7\n",
       "\n",
       "\n",
       "\n",
       "**Levels**: 1. 't_4'\n",
       "2. 't_7'\n",
       "3. 'linear'\n",
       "4. 'quadratic'\n",
       "\n",
       "\n"
      ],
      "text/plain": [
       " [1] linear    quadratic linear    quadratic linear    quadratic linear   \n",
       " [8] quadratic linear    quadratic linear    quadratic linear    quadratic\n",
       "[15] linear    quadratic linear    quadratic linear    quadratic linear   \n",
       "[22] quadratic linear    quadratic linear    quadratic linear    quadratic\n",
       "[29] linear    quadratic linear    quadratic linear    quadratic linear   \n",
       "[36] quadratic linear    quadratic linear    quadratic t_4       t_7      \n",
       "[43] t_4       t_7       t_4       t_7       t_4       t_7       t_4      \n",
       "[50] t_7       t_4       t_7       t_4       t_7       t_4       t_7      \n",
       "[57] t_4       t_7       t_4       t_7       t_4       t_7       t_4      \n",
       "[64] t_7       t_4       t_7       t_4       t_7       t_4       t_7      \n",
       "[71] t_4       t_7       t_4       t_7       t_4       t_7       t_4      \n",
       "[78] t_7       t_4       t_7      \n",
       "Levels: t_4 t_7 linear quadratic"
      ]
     },
     "metadata": {},
     "output_type": "display_data"
    }
   ],
   "source": [
    "dataset3$type"
   ]
  },
  {
   "cell_type": "code",
   "execution_count": 167,
   "metadata": {},
   "outputs": [],
   "source": [
    "dataset1$type2 = \"inconstant variance\"\n",
    "dataset2$type2 = \"t-distribution\"\n",
    "dataset3 = rbind(dataset1, dataset2)\n",
    "dataset3$type = factor(dataset3$type, levels=c(\"t_4\", \"t_7\", \"linear\", \"quadratic\")) \n",
    "dataset3$type2 = factor(dataset3$type2, levels=c(\"t-distribution\", \"inconstant variance\")) \n",
    "\n",
    "\n",
    "baseline3 = data.frame(y = c(mean(lin_adp$hsigma), mean(quad_adp$hsigma),\n",
    "                            mean(t4_adp$hsigma), mean(t7_adp$hsigma)) * sqrt(qchisq(p = 0.95, df = N) / N),\n",
    "                    type = c('linear', 'quadratic', 't_4', 't_7'))\n",
    "\n",
    "g1 = ggplot(data = dataset3, aes(x = b, y = r, color = method, shape = method)) + \n",
    "  geom_line(size = 0.5, alpha = 0.8) +\n",
    "  geom_point(size = 2.5, alpha = 0.8) +\n",
    "  geom_hline(data = baseline3, aes(yintercept = y), linetype = 3) +\n",
    "  scale_color_discrete(name = element_blank()) +\n",
    "  scale_shape_discrete(name = element_blank()) +\n",
    "  facet_wrap(~ type, scales=\"free_y\", nrow = 2) + \n",
    "  ylab('radii') + \n",
    "  expand_limits(y = 0) +\n",
    "  theme_settings"
   ]
  },
  {
   "cell_type": "code",
   "execution_count": 168,
   "metadata": {},
   "outputs": [],
   "source": [
    "g2 = ggplot(data = dataset3, aes(x = method, y = coverage)) + \n",
    "  geom_boxplot() + \n",
    "  xlab('') + \n",
    "  theme_settings +\n",
    "#   coord_cartesian(ylim = c(0.75, 1)) +\n",
    "  facet_grid(. ~ type2) + \n",
    "  geom_hline(yintercept = 0.95, linetype = 3)"
   ]
  },
  {
   "cell_type": "code",
   "execution_count": 169,
   "metadata": {
    "scrolled": false
   },
   "outputs": [
    {
     "data": {
      "image/png": "[encoded data removed]",
      "text/plain": [
       "plot without title"
      ]
     },
     "metadata": {
      "image/png": {
       "height": 420,
       "width": 420
      },
      "text/plain": {
       "height": 420,
       "width": 420
      }
     },
     "output_type": "display_data"
    }
   ],
   "source": [
    "library(gridBase)\n",
    "library(gridExtra)\n",
    "\n",
    "fig_r = grid.arrange(g1, g2, ncol = 1, heights = c(9, 4))\n",
    "ggsave('normality_homogeneity.pdf', fig_r, width = 6.67, height = 6.67, units = 'in')"
   ]
  },
  {
   "cell_type": "code",
   "execution_count": null,
   "metadata": {
    "collapsed": true
   },
   "outputs": [],
   "source": []
  },
  {
   "cell_type": "code",
   "execution_count": null,
   "metadata": {
    "collapsed": true
   },
   "outputs": [],
   "source": []
  }
 ],
 "metadata": {
  "kernelspec": {
   "display_name": "R",
   "language": "R",
   "name": "ir"
  },
  "language_info": {
   "codemirror_mode": "r",
   "file_extension": ".r",
   "mimetype": "text/x-r-source",
   "name": "R",
   "pygments_lexer": "r",
   "version": "3.6.2"
  }
 },
 "nbformat": 4,
 "nbformat_minor": 2
}
